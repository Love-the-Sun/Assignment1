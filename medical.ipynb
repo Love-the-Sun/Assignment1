{
 "cells": [
  {
   "cell_type": "code",
   "execution_count": 1,
   "metadata": {
    "collapsed": true
   },
   "outputs": [],
   "source": [
    "from matplotlib.pyplot import figure\n",
    "import data_analysis\n",
    "import pandas as pd\n",
    "import matplotlib.pyplot as plot\n",
    "import nltk\n",
    "import random\n",
    "import re\n",
    "pd.set_option('display.max_rows', None)"
   ]
  },
  {
   "cell_type": "markdown",
   "source": [
    "#### Tokenize"
   ],
   "metadata": {
    "collapsed": false
   }
  },
  {
   "cell_type": "code",
   "execution_count": 2,
   "outputs": [
    {
     "name": "stdout",
     "output_type": "stream",
     "text": [
      "Distinct tokens: 5583\n"
     ]
    },
    {
     "data": {
      "text/plain": "       tokens  count\n0    dementia    443\n1        risk    210\n2      people    208\n3     bladder    168\n4        mscs    158\n5   organoids    152\n6       cells    144\n7     studies    139\n8        care    136\n9   cognitive    132\n10      years    131\n11     carers    115\n12    factors    114\n13    disease    110\n14     cancer    109\n15     health    101\n16      might     98\n17   clinical     96\n18   evidence     92\n19      study     90",
      "text/html": "<div>\n<style scoped>\n    .dataframe tbody tr th:only-of-type {\n        vertical-align: middle;\n    }\n\n    .dataframe tbody tr th {\n        vertical-align: top;\n    }\n\n    .dataframe thead th {\n        text-align: right;\n    }\n</style>\n<table border=\"1\" class=\"dataframe\">\n  <thead>\n    <tr style=\"text-align: right;\">\n      <th></th>\n      <th>tokens</th>\n      <th>count</th>\n    </tr>\n  </thead>\n  <tbody>\n    <tr>\n      <th>0</th>\n      <td>dementia</td>\n      <td>443</td>\n    </tr>\n    <tr>\n      <th>1</th>\n      <td>risk</td>\n      <td>210</td>\n    </tr>\n    <tr>\n      <th>2</th>\n      <td>people</td>\n      <td>208</td>\n    </tr>\n    <tr>\n      <th>3</th>\n      <td>bladder</td>\n      <td>168</td>\n    </tr>\n    <tr>\n      <th>4</th>\n      <td>mscs</td>\n      <td>158</td>\n    </tr>\n    <tr>\n      <th>5</th>\n      <td>organoids</td>\n      <td>152</td>\n    </tr>\n    <tr>\n      <th>6</th>\n      <td>cells</td>\n      <td>144</td>\n    </tr>\n    <tr>\n      <th>7</th>\n      <td>studies</td>\n      <td>139</td>\n    </tr>\n    <tr>\n      <th>8</th>\n      <td>care</td>\n      <td>136</td>\n    </tr>\n    <tr>\n      <th>9</th>\n      <td>cognitive</td>\n      <td>132</td>\n    </tr>\n    <tr>\n      <th>10</th>\n      <td>years</td>\n      <td>131</td>\n    </tr>\n    <tr>\n      <th>11</th>\n      <td>carers</td>\n      <td>115</td>\n    </tr>\n    <tr>\n      <th>12</th>\n      <td>factors</td>\n      <td>114</td>\n    </tr>\n    <tr>\n      <th>13</th>\n      <td>disease</td>\n      <td>110</td>\n    </tr>\n    <tr>\n      <th>14</th>\n      <td>cancer</td>\n      <td>109</td>\n    </tr>\n    <tr>\n      <th>15</th>\n      <td>health</td>\n      <td>101</td>\n    </tr>\n    <tr>\n      <th>16</th>\n      <td>might</td>\n      <td>98</td>\n    </tr>\n    <tr>\n      <th>17</th>\n      <td>clinical</td>\n      <td>96</td>\n    </tr>\n    <tr>\n      <th>18</th>\n      <td>evidence</td>\n      <td>92</td>\n    </tr>\n    <tr>\n      <th>19</th>\n      <td>study</td>\n      <td>90</td>\n    </tr>\n  </tbody>\n</table>\n</div>"
     },
     "execution_count": 2,
     "metadata": {},
     "output_type": "execute_result"
    }
   ],
   "source": [
    "token_list = data_analysis.get_tokens(\"Medical\")\n",
    "token_data = pd.DataFrame(token_list, columns=[\"tokens\"])\n",
    "token_data = token_data.groupby([\"tokens\"]).size().reset_index(name=\"count\")\n",
    "token_data = token_data.sort_values([\"count\", \"tokens\"], ascending=False).reset_index(drop=True)\n",
    "print(\"Distinct tokens: {0}\".format(len(token_data.index)))\n",
    "token_data.head(20)"
   ],
   "metadata": {
    "collapsed": false,
    "pycharm": {
     "name": "#%%\n"
    }
   }
  },
  {
   "cell_type": "markdown",
   "source": [
    "#### Stemming"
   ],
   "metadata": {
    "collapsed": false
   }
  },
  {
   "cell_type": "code",
   "execution_count": 3,
   "outputs": [
    {
     "name": "stdout",
     "output_type": "stream",
     "text": [
      "Distinct tokens: 4029\n"
     ]
    },
    {
     "data": {
      "text/plain": "       tokens  count\n0    dementia    455\n1       studi    235\n2        risk    229\n3       peopl    208\n4    organoid    207\n5        cell    206\n6         msc    203\n7         use    199\n8       carer    189\n9      cognit    177\n10    bladder    173\n11       care    159\n12     factor    150\n13       year    144\n14  intervent    141\n15     diseas    139\n16    increas    138\n17     clinic    124\n18    patient    123\n19     effect    118",
      "text/html": "<div>\n<style scoped>\n    .dataframe tbody tr th:only-of-type {\n        vertical-align: middle;\n    }\n\n    .dataframe tbody tr th {\n        vertical-align: top;\n    }\n\n    .dataframe thead th {\n        text-align: right;\n    }\n</style>\n<table border=\"1\" class=\"dataframe\">\n  <thead>\n    <tr style=\"text-align: right;\">\n      <th></th>\n      <th>tokens</th>\n      <th>count</th>\n    </tr>\n  </thead>\n  <tbody>\n    <tr>\n      <th>0</th>\n      <td>dementia</td>\n      <td>455</td>\n    </tr>\n    <tr>\n      <th>1</th>\n      <td>studi</td>\n      <td>235</td>\n    </tr>\n    <tr>\n      <th>2</th>\n      <td>risk</td>\n      <td>229</td>\n    </tr>\n    <tr>\n      <th>3</th>\n      <td>peopl</td>\n      <td>208</td>\n    </tr>\n    <tr>\n      <th>4</th>\n      <td>organoid</td>\n      <td>207</td>\n    </tr>\n    <tr>\n      <th>5</th>\n      <td>cell</td>\n      <td>206</td>\n    </tr>\n    <tr>\n      <th>6</th>\n      <td>msc</td>\n      <td>203</td>\n    </tr>\n    <tr>\n      <th>7</th>\n      <td>use</td>\n      <td>199</td>\n    </tr>\n    <tr>\n      <th>8</th>\n      <td>carer</td>\n      <td>189</td>\n    </tr>\n    <tr>\n      <th>9</th>\n      <td>cognit</td>\n      <td>177</td>\n    </tr>\n    <tr>\n      <th>10</th>\n      <td>bladder</td>\n      <td>173</td>\n    </tr>\n    <tr>\n      <th>11</th>\n      <td>care</td>\n      <td>159</td>\n    </tr>\n    <tr>\n      <th>12</th>\n      <td>factor</td>\n      <td>150</td>\n    </tr>\n    <tr>\n      <th>13</th>\n      <td>year</td>\n      <td>144</td>\n    </tr>\n    <tr>\n      <th>14</th>\n      <td>intervent</td>\n      <td>141</td>\n    </tr>\n    <tr>\n      <th>15</th>\n      <td>diseas</td>\n      <td>139</td>\n    </tr>\n    <tr>\n      <th>16</th>\n      <td>increas</td>\n      <td>138</td>\n    </tr>\n    <tr>\n      <th>17</th>\n      <td>clinic</td>\n      <td>124</td>\n    </tr>\n    <tr>\n      <th>18</th>\n      <td>patient</td>\n      <td>123</td>\n    </tr>\n    <tr>\n      <th>19</th>\n      <td>effect</td>\n      <td>118</td>\n    </tr>\n  </tbody>\n</table>\n</div>"
     },
     "execution_count": 3,
     "metadata": {},
     "output_type": "execute_result"
    }
   ],
   "source": [
    "stemmed_token_list = data_analysis.stem(token_list)\n",
    "stemmed_data = pd.DataFrame(stemmed_token_list, columns=[\"tokens\"])\n",
    "stemmed_data = stemmed_data.groupby([\"tokens\"]).size().reset_index(name=\"count\")\n",
    "stemmed_data = stemmed_data.sort_values([\"count\", \"tokens\"], ascending=False).reset_index(drop=True)\n",
    "print(\"Distinct tokens: {0}\".format(len(stemmed_data.index)))\n",
    "stemmed_data.head(20)"
   ],
   "metadata": {
    "collapsed": false,
    "pycharm": {
     "name": "#%%\n"
    }
   }
  },
  {
   "cell_type": "code",
   "execution_count": 4,
   "outputs": [
    {
     "data": {
      "text/plain": "<BarContainer object of 28 artists>"
     },
     "execution_count": 4,
     "metadata": {},
     "output_type": "execute_result"
    },
    {
     "data": {
      "text/plain": "<Figure size 432x288 with 1 Axes>",
      "image/png": "[encoded data removed]"
     },
     "metadata": {
      "needs_background": "light"
     },
     "output_type": "display_data"
    }
   ],
   "source": [
    "grouped_token_list = token_data[\"tokens\"].values.tolist()\n",
    "token_length_list = [len(token) for token in grouped_token_list]\n",
    "token_count_data = pd.DataFrame(token_length_list, columns=[\"Length\"])\n",
    "token_count_data = token_count_data.groupby([\"Length\"]).size().reset_index(name=\"Count\")\n",
    "x = token_count_data[\"Length\"].values.tolist()\n",
    "y = token_count_data[\"Count\"].values.tolist()\n",
    "plot.bar(x, y)"
   ],
   "metadata": {
    "collapsed": false,
    "pycharm": {
     "name": "#%%\n"
    }
   }
  },
  {
   "cell_type": "code",
   "execution_count": 5,
   "outputs": [
    {
     "data": {
      "text/plain": "<BarContainer object of 25 artists>"
     },
     "execution_count": 5,
     "metadata": {},
     "output_type": "execute_result"
    },
    {
     "data": {
      "text/plain": "<Figure size 432x288 with 1 Axes>",
      "image/png": "[encoded data removed]"
     },
     "metadata": {
      "needs_background": "light"
     },
     "output_type": "display_data"
    }
   ],
   "source": [
    "grouped_stemmed_token_list = stemmed_data[\"tokens\"].values.tolist()\n",
    "stemmed_length_list = [len(token) for token in grouped_stemmed_token_list]\n",
    "stemmed_token_count_data = pd.DataFrame(stemmed_length_list, columns=[\"Length\"])\n",
    "stemmed_token_count_data = stemmed_token_count_data.groupby([\"Length\"]).size().reset_index(name=\"Count\")\n",
    "x = stemmed_token_count_data[\"Length\"].values.tolist()\n",
    "y = stemmed_token_count_data[\"Count\"].values.tolist()\n",
    "plot.bar(x, y)"
   ],
   "metadata": {
    "collapsed": false,
    "pycharm": {
     "name": "#%%\n"
    }
   }
  },
  {
   "cell_type": "markdown",
   "source": [
    "#### Sentence Segmentation"
   ],
   "metadata": {
    "collapsed": false
   }
  },
  {
   "cell_type": "code",
   "execution_count": 6,
   "outputs": [
    {
     "data": {
      "text/plain": "<BarContainer object of 137 artists>"
     },
     "execution_count": 6,
     "metadata": {},
     "output_type": "execute_result"
    },
    {
     "data": {
      "text/plain": "<Figure size 960x480 with 1 Axes>",
      "image/png": "[encoded data removed]"
     },
     "metadata": {},
     "output_type": "display_data"
    }
   ],
   "source": [
    "sentence_list = data_analysis.sentence_segment(\"Medical\")\n",
    "sentence_length_list = []\n",
    "\n",
    "for sentence in sentence_list:\n",
    "    word_list = sentence.split()\n",
    "    count = 0\n",
    "\n",
    "    if len(word_list) == 1 and not re.search('[a-zA-Z]', sentence):\n",
    "        sentence_length_list.append(0)\n",
    "        continue\n",
    "\n",
    "    for word in word_list:\n",
    "        if word.strip() != \"\":\n",
    "            count += 1\n",
    "\n",
    "    sentence_length_list.append(count)\n",
    "\n",
    "sentence_length_data = pd.DataFrame(sentence_length_list, columns=[\"Length\"])\n",
    "sentence_length_data = sentence_length_data.groupby([\"Length\"]).size().reset_index(name=\"Count\")\n",
    "sentence_length_data = sentence_length_data[sentence_length_data[\"Length\"] > 0]\n",
    "x = sentence_length_data[\"Length\"].values.tolist()\n",
    "y = sentence_length_data[\"Count\"].values.tolist()\n",
    "figure(num=None, figsize=(12, 6), dpi=80, facecolor='w', edgecolor='k')\n",
    "plot.bar(x, y)"
   ],
   "metadata": {
    "collapsed": false,
    "pycharm": {
     "name": "#%%\n"
    }
   }
  },
  {
   "cell_type": "markdown",
   "source": [
    "#### POS Tagging"
   ],
   "metadata": {
    "collapsed": false,
    "pycharm": {
     "name": "#%% md\n"
    }
   }
  },
  {
   "cell_type": "code",
   "execution_count": 10,
   "outputs": [
    {
     "name": "stdout",
     "output_type": "stream",
     "text": [
      "Education is crucial for the carer to understand that patients’ behaviour is not purposeful or meant to provoke.\n",
      "('Education', 'NN')\n",
      "('is', 'VBZ')\n",
      "('crucial', 'JJ')\n",
      "('for', 'IN')\n",
      "('the', 'DT')\n",
      "('carer', 'NN')\n",
      "('to', 'TO')\n",
      "('understand', 'VB')\n",
      "('that', 'IN')\n",
      "('patients', 'NNS')\n",
      "('behaviour', 'VBP')\n",
      "('is', 'VBZ')\n",
      "('not', 'RB')\n",
      "('purposeful', 'JJ')\n",
      "('or', 'CC')\n",
      "('meant', 'JJ')\n",
      "('to', 'TO')\n",
      "('provoke', 'VB')\n",
      "\n",
      "This means applications of AI in medicine will be increasingly useful in aiding diagnosis and clinical treatment.\n",
      "('This', 'DT')\n",
      "('means', 'VBZ')\n",
      "('applications', 'NNS')\n",
      "('of', 'IN')\n",
      "('AI', 'NNP')\n",
      "('in', 'IN')\n",
      "('medicine', 'NN')\n",
      "('will', 'MD')\n",
      "('be', 'VB')\n",
      "('increasingly', 'RB')\n",
      "('useful', 'JJ')\n",
      "('in', 'IN')\n",
      "('aiding', 'VBG')\n",
      "('diagnosis', 'NN')\n",
      "('and', 'CC')\n",
      "('clinical', 'JJ')\n",
      "('treatment', 'NN')\n",
      "\n",
      "Recently, clinical trials have been undertaken to promote tracheal reconstruction using tracheal substitutes, including autologous grafts, homografts, and prostheses [179].\n",
      "('Recently', 'RB')\n",
      "('clinical', 'JJ')\n",
      "('trials', 'NNS')\n",
      "('have', 'VBP')\n",
      "('been', 'VBN')\n",
      "('undertaken', 'VBN')\n",
      "('to', 'TO')\n",
      "('promote', 'VB')\n",
      "('tracheal', 'JJ')\n",
      "('reconstruction', 'NN')\n",
      "('using', 'VBG')\n",
      "('tracheal', 'JJ')\n",
      "('substitutes', 'NNS')\n",
      "('including', 'VBG')\n",
      "('autologous', 'JJ')\n",
      "('grafts', 'NNS')\n",
      "('homografts', 'NNS')\n",
      "('and', 'CC')\n",
      "('prostheses', 'NNS')\n",
      "\n"
     ]
    }
   ],
   "source": [
    "#nltk.download('averaged_perceptron_tagger')\n",
    "selected_sentence_list = random.sample(sentence_list, 3)\n",
    "\n",
    "for sentence in selected_sentence_list:\n",
    "    print(sentence)\n",
    "    tagged_list = nltk.pos_tag(data_analysis.get_tokens_from_sentence(sentence))\n",
    "\n",
    "    for tag in tagged_list:\n",
    "        print(tag)\n",
    "\n",
    "    print(\"\")"
   ],
   "metadata": {
    "collapsed": false,
    "pycharm": {
     "name": "#%%\n"
    }
   }
  }
 ],
 "metadata": {
  "kernelspec": {
   "display_name": "Python 3",
   "language": "python",
   "name": "python3"
  },
  "language_info": {
   "codemirror_mode": {
    "name": "ipython",
    "version": 2
   },
   "file_extension": ".py",
   "mimetype": "text/x-python",
   "name": "python",
   "nbconvert_exporter": "python",
   "pygments_lexer": "ipython2",
   "version": "2.7.6"
  }
 },
 "nbformat": 4,
 "nbformat_minor": 0
}