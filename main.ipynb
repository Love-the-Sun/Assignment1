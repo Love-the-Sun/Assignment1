{
 "cells": [
  {
   "cell_type": "code",
   "execution_count": 1,
   "metadata": {
    "collapsed": true
   },
   "outputs": [],
   "source": [
    "from matplotlib.pyplot import figure\n",
    "import data_analysis\n",
    "import pandas as pd\n",
    "import matplotlib.pyplot as plot\n",
    "import nltk\n",
    "import random\n",
    "import re\n",
    "pd.set_option('display.max_rows', None)"
   ]
  },
  {
   "cell_type": "markdown",
   "source": [
    "#### Tokenize"
   ],
   "metadata": {
    "collapsed": false
   }
  },
  {
   "cell_type": "code",
   "execution_count": 2,
   "outputs": [
    {
     "name": "stdout",
     "output_type": "stream",
     "text": [
      "Distinct tokens: 12445\n"
     ]
    },
    {
     "data": {
      "text/plain": "       tokens  count\n0    dementia    495\n1       cells    360\n2    research    331\n3    patients    324\n4        data    299\n5      cancer    281\n6     studies    273\n7       heart    270\n8      tissue    258\n9        risk    252\n10       also    248\n11       used    233\n12        may    233\n13      valve    221\n14     people    219\n15   clinical    218\n16      study    214\n17       rate    198\n18  organoids    191\n19      human    189\n20    disease    187\n21      years    178\n22         et    178\n23    however    175\n24        ftd    170",
      "text/html": "<div>\n<style scoped>\n    .dataframe tbody tr th:only-of-type {\n        vertical-align: middle;\n    }\n\n    .dataframe tbody tr th {\n        vertical-align: top;\n    }\n\n    .dataframe thead th {\n        text-align: right;\n    }\n</style>\n<table border=\"1\" class=\"dataframe\">\n  <thead>\n    <tr style=\"text-align: right;\">\n      <th></th>\n      <th>tokens</th>\n      <th>count</th>\n    </tr>\n  </thead>\n  <tbody>\n    <tr>\n      <th>0</th>\n      <td>dementia</td>\n      <td>495</td>\n    </tr>\n    <tr>\n      <th>1</th>\n      <td>cells</td>\n      <td>360</td>\n    </tr>\n    <tr>\n      <th>2</th>\n      <td>research</td>\n      <td>331</td>\n    </tr>\n    <tr>\n      <th>3</th>\n      <td>patients</td>\n      <td>324</td>\n    </tr>\n    <tr>\n      <th>4</th>\n      <td>data</td>\n      <td>299</td>\n    </tr>\n    <tr>\n      <th>5</th>\n      <td>cancer</td>\n      <td>281</td>\n    </tr>\n    <tr>\n      <th>6</th>\n      <td>studies</td>\n      <td>273</td>\n    </tr>\n    <tr>\n      <th>7</th>\n      <td>heart</td>\n      <td>270</td>\n    </tr>\n    <tr>\n      <th>8</th>\n      <td>tissue</td>\n      <td>258</td>\n    </tr>\n    <tr>\n      <th>9</th>\n      <td>risk</td>\n      <td>252</td>\n    </tr>\n    <tr>\n      <th>10</th>\n      <td>also</td>\n      <td>248</td>\n    </tr>\n    <tr>\n      <th>11</th>\n      <td>used</td>\n      <td>233</td>\n    </tr>\n    <tr>\n      <th>12</th>\n      <td>may</td>\n      <td>233</td>\n    </tr>\n    <tr>\n      <th>13</th>\n      <td>valve</td>\n      <td>221</td>\n    </tr>\n    <tr>\n      <th>14</th>\n      <td>people</td>\n      <td>219</td>\n    </tr>\n    <tr>\n      <th>15</th>\n      <td>clinical</td>\n      <td>218</td>\n    </tr>\n    <tr>\n      <th>16</th>\n      <td>study</td>\n      <td>214</td>\n    </tr>\n    <tr>\n      <th>17</th>\n      <td>rate</td>\n      <td>198</td>\n    </tr>\n    <tr>\n      <th>18</th>\n      <td>organoids</td>\n      <td>191</td>\n    </tr>\n    <tr>\n      <th>19</th>\n      <td>human</td>\n      <td>189</td>\n    </tr>\n    <tr>\n      <th>20</th>\n      <td>disease</td>\n      <td>187</td>\n    </tr>\n    <tr>\n      <th>21</th>\n      <td>years</td>\n      <td>178</td>\n    </tr>\n    <tr>\n      <th>22</th>\n      <td>et</td>\n      <td>178</td>\n    </tr>\n    <tr>\n      <th>23</th>\n      <td>however</td>\n      <td>175</td>\n    </tr>\n    <tr>\n      <th>24</th>\n      <td>ftd</td>\n      <td>170</td>\n    </tr>\n  </tbody>\n</table>\n</div>"
     },
     "execution_count": 2,
     "metadata": {},
     "output_type": "execute_result"
    }
   ],
   "source": [
    "token_list = data_analysis.get_tokens(\"Medical\")\n",
    "token_data = pd.DataFrame(token_list, columns=[\"tokens\"])\n",
    "token_data = token_data.groupby([\"tokens\"]).size().reset_index(name=\"count\")\n",
    "token_data = token_data.sort_values([\"count\", \"tokens\"], ascending=False).reset_index(drop=True)\n",
    "print(\"Distinct tokens: {0}\".format(len(token_data.index)))\n",
    "token_data.head(25)"
   ],
   "metadata": {
    "collapsed": false,
    "pycharm": {
     "name": "#%%\n"
    }
   }
  },
  {
   "cell_type": "markdown",
   "source": [
    "#### Stemming"
   ],
   "metadata": {
    "collapsed": false
   }
  },
  {
   "cell_type": "code",
   "execution_count": 3,
   "outputs": [
    {
     "name": "stdout",
     "output_type": "stream",
     "text": [
      "Distinct tokens: 9106\n"
     ]
    },
    {
     "data": {
      "text/plain": "      tokens  count\n0        use    526\n1       cell    521\n2      studi    510\n3   dementia    509\n4    patient    485\n5   research    375\n6       valv    341\n7     effect    324\n8     cancer    302\n9       data    299\n10     tissu    290\n11   increas    285\n12      risk    277\n13     heart    276\n14      year    271\n15  organoid    267\n16    clinic    265\n17      also    248\n18    includ    245\n19    result    243\n20    diseas    243\n21    system    240\n22      rate    240\n23       may    233\n24     model    230",
      "text/html": "<div>\n<style scoped>\n    .dataframe tbody tr th:only-of-type {\n        vertical-align: middle;\n    }\n\n    .dataframe tbody tr th {\n        vertical-align: top;\n    }\n\n    .dataframe thead th {\n        text-align: right;\n    }\n</style>\n<table border=\"1\" class=\"dataframe\">\n  <thead>\n    <tr style=\"text-align: right;\">\n      <th></th>\n      <th>tokens</th>\n      <th>count</th>\n    </tr>\n  </thead>\n  <tbody>\n    <tr>\n      <th>0</th>\n      <td>use</td>\n      <td>526</td>\n    </tr>\n    <tr>\n      <th>1</th>\n      <td>cell</td>\n      <td>521</td>\n    </tr>\n    <tr>\n      <th>2</th>\n      <td>studi</td>\n      <td>510</td>\n    </tr>\n    <tr>\n      <th>3</th>\n      <td>dementia</td>\n      <td>509</td>\n    </tr>\n    <tr>\n      <th>4</th>\n      <td>patient</td>\n      <td>485</td>\n    </tr>\n    <tr>\n      <th>5</th>\n      <td>research</td>\n      <td>375</td>\n    </tr>\n    <tr>\n      <th>6</th>\n      <td>valv</td>\n      <td>341</td>\n    </tr>\n    <tr>\n      <th>7</th>\n      <td>effect</td>\n      <td>324</td>\n    </tr>\n    <tr>\n      <th>8</th>\n      <td>cancer</td>\n      <td>302</td>\n    </tr>\n    <tr>\n      <th>9</th>\n      <td>data</td>\n      <td>299</td>\n    </tr>\n    <tr>\n      <th>10</th>\n      <td>tissu</td>\n      <td>290</td>\n    </tr>\n    <tr>\n      <th>11</th>\n      <td>increas</td>\n      <td>285</td>\n    </tr>\n    <tr>\n      <th>12</th>\n      <td>risk</td>\n      <td>277</td>\n    </tr>\n    <tr>\n      <th>13</th>\n      <td>heart</td>\n      <td>276</td>\n    </tr>\n    <tr>\n      <th>14</th>\n      <td>year</td>\n      <td>271</td>\n    </tr>\n    <tr>\n      <th>15</th>\n      <td>organoid</td>\n      <td>267</td>\n    </tr>\n    <tr>\n      <th>16</th>\n      <td>clinic</td>\n      <td>265</td>\n    </tr>\n    <tr>\n      <th>17</th>\n      <td>also</td>\n      <td>248</td>\n    </tr>\n    <tr>\n      <th>18</th>\n      <td>includ</td>\n      <td>245</td>\n    </tr>\n    <tr>\n      <th>19</th>\n      <td>result</td>\n      <td>243</td>\n    </tr>\n    <tr>\n      <th>20</th>\n      <td>diseas</td>\n      <td>243</td>\n    </tr>\n    <tr>\n      <th>21</th>\n      <td>system</td>\n      <td>240</td>\n    </tr>\n    <tr>\n      <th>22</th>\n      <td>rate</td>\n      <td>240</td>\n    </tr>\n    <tr>\n      <th>23</th>\n      <td>may</td>\n      <td>233</td>\n    </tr>\n    <tr>\n      <th>24</th>\n      <td>model</td>\n      <td>230</td>\n    </tr>\n  </tbody>\n</table>\n</div>"
     },
     "execution_count": 3,
     "metadata": {},
     "output_type": "execute_result"
    }
   ],
   "source": [
    "stemmed_token_list = data_analysis.stem(token_list)\n",
    "stemmed_data = pd.DataFrame(stemmed_token_list, columns=[\"tokens\"])\n",
    "stemmed_data = stemmed_data.groupby([\"tokens\"]).size().reset_index(name=\"count\")\n",
    "stemmed_data = stemmed_data.sort_values([\"count\", \"tokens\"], ascending=False).reset_index(drop=True)\n",
    "print(\"Distinct tokens: {0}\".format(len(stemmed_data.index)))\n",
    "stemmed_data.head(25)"
   ],
   "metadata": {
    "collapsed": false,
    "pycharm": {
     "name": "#%%\n"
    }
   }
  },
  {
   "cell_type": "code",
   "execution_count": 4,
   "outputs": [
    {
     "data": {
      "text/plain": "<BarContainer object of 30 artists>"
     },
     "execution_count": 4,
     "metadata": {},
     "output_type": "execute_result"
    },
    {
     "data": {
      "text/plain": "<Figure size 432x288 with 1 Axes>",
      "image/png": "[encoded data removed]"
     },
     "metadata": {
      "needs_background": "light"
     },
     "output_type": "display_data"
    }
   ],
   "source": [
    "grouped_token_list = token_data[\"tokens\"].values.tolist()\n",
    "token_length_list = [len(token) for token in grouped_token_list]\n",
    "token_count_data = pd.DataFrame(token_length_list, columns=[\"Length\"])\n",
    "token_count_data = token_count_data.groupby([\"Length\"]).size().reset_index(name=\"Count\")\n",
    "x = token_count_data[\"Length\"].values.tolist()\n",
    "y = token_count_data[\"Count\"].values.tolist()\n",
    "plot.bar(x, y)"
   ],
   "metadata": {
    "collapsed": false,
    "pycharm": {
     "name": "#%%\n"
    }
   }
  },
  {
   "cell_type": "code",
   "execution_count": 5,
   "outputs": [
    {
     "data": {
      "text/plain": "<BarContainer object of 28 artists>"
     },
     "execution_count": 5,
     "metadata": {},
     "output_type": "execute_result"
    },
    {
     "data": {
      "text/plain": "<Figure size 432x288 with 1 Axes>",
      "image/png": "[encoded data removed]"
     },
     "metadata": {
      "needs_background": "light"
     },
     "output_type": "display_data"
    }
   ],
   "source": [
    "grouped_stemmed_token_list = stemmed_data[\"tokens\"].values.tolist()\n",
    "stemmed_length_list = [len(token) for token in grouped_stemmed_token_list]\n",
    "stemmed_token_count_data = pd.DataFrame(stemmed_length_list, columns=[\"Length\"])\n",
    "stemmed_token_count_data = stemmed_token_count_data.groupby([\"Length\"]).size().reset_index(name=\"Count\")\n",
    "x = stemmed_token_count_data[\"Length\"].values.tolist()\n",
    "y = stemmed_token_count_data[\"Count\"].values.tolist()\n",
    "plot.bar(x, y)"
   ],
   "metadata": {
    "collapsed": false,
    "pycharm": {
     "name": "#%%\n"
    }
   }
  },
  {
   "cell_type": "markdown",
   "source": [
    "#### Sentence Segmentation"
   ],
   "metadata": {
    "collapsed": false
   }
  },
  {
   "cell_type": "code",
   "execution_count": 6,
   "outputs": [
    {
     "data": {
      "text/plain": "<BarContainer object of 153 artists>"
     },
     "execution_count": 6,
     "metadata": {},
     "output_type": "execute_result"
    },
    {
     "data": {
      "text/plain": "<Figure size 960x480 with 1 Axes>",
      "image/png": "[encoded data removed]"
     },
     "metadata": {},
     "output_type": "display_data"
    }
   ],
   "source": [
    "sentence_list = data_analysis.sentence_segment(\"Medical\")\n",
    "sentence_length_list = []\n",
    "\n",
    "for sentence in sentence_list:\n",
    "    word_list = sentence.split()\n",
    "    count = 0\n",
    "\n",
    "    if len(word_list) == 1 and not re.search('[a-zA-Z]', sentence):\n",
    "        sentence_length_list.append(0)\n",
    "        continue\n",
    "\n",
    "    for word in word_list:\n",
    "        if word.strip() != \"\":\n",
    "            count += 1\n",
    "\n",
    "    sentence_length_list.append(count)\n",
    "\n",
    "sentence_length_data = pd.DataFrame(sentence_length_list, columns=[\"Length\"])\n",
    "sentence_length_data = sentence_length_data.groupby([\"Length\"]).size().reset_index(name=\"Count\")\n",
    "sentence_length_data = sentence_length_data[sentence_length_data[\"Length\"] > 0]\n",
    "x = sentence_length_data[\"Length\"].values.tolist()\n",
    "y = sentence_length_data[\"Count\"].values.tolist()\n",
    "figure(num=None, figsize=(12, 6), dpi=80, facecolor='w', edgecolor='k')\n",
    "plot.bar(x, y)"
   ],
   "metadata": {
    "collapsed": false,
    "pycharm": {
     "name": "#%%\n"
    }
   }
  },
  {
   "cell_type": "markdown",
   "source": [
    "#### POS Tagging"
   ],
   "metadata": {
    "collapsed": false,
    "pycharm": {
     "name": "#%% md\n"
    }
   }
  },
  {
   "cell_type": "code",
   "execution_count": 7,
   "outputs": [
    {
     "name": "stdout",
     "output_type": "stream",
     "text": [
      "MRI, magnetic resonance imaging; PET/CT, positron emission tomography/computed tomography.\n",
      "('MRI', 'NNP')\n",
      "('magnetic', 'JJ')\n",
      "('resonance', 'NN')\n",
      "('imaging', 'VBG')\n",
      "('PET/CT', 'NNP')\n",
      "('positron', 'NN')\n",
      "('emission', 'NN')\n",
      "('tomography/computed', 'VBD')\n",
      "('tomography', 'NN')\n",
      "\n",
      "There are a number of important issues that need to be investigated.\n",
      "('There', 'EX')\n",
      "('are', 'VBP')\n",
      "('a', 'DT')\n",
      "('number', 'NN')\n",
      "('of', 'IN')\n",
      "('important', 'JJ')\n",
      "('issues', 'NNS')\n",
      "('that', 'WDT')\n",
      "('need', 'VBP')\n",
      "('to', 'TO')\n",
      "('be', 'VB')\n",
      "('investigated', 'VBN')\n",
      "\n",
      "This approach suggests a new type of therapy focus on specific agerelated processes that underpin many diseases of late life might reduce the incidence or severity of dementia.\n",
      "('This', 'DT')\n",
      "('approach', 'NN')\n",
      "('suggests', 'VBZ')\n",
      "('a', 'DT')\n",
      "('new', 'JJ')\n",
      "('type', 'NN')\n",
      "('of', 'IN')\n",
      "('therapy', 'NN')\n",
      "('focus', 'NN')\n",
      "('on', 'IN')\n",
      "('specific', 'JJ')\n",
      "('agerelated', 'JJ')\n",
      "('processes', 'NNS')\n",
      "('that', 'WDT')\n",
      "('underpin', 'VBP')\n",
      "('many', 'JJ')\n",
      "('diseases', 'NNS')\n",
      "('of', 'IN')\n",
      "('late', 'JJ')\n",
      "('life', 'NN')\n",
      "('might', 'MD')\n",
      "('reduce', 'VB')\n",
      "('the', 'DT')\n",
      "('incidence', 'NN')\n",
      "('or', 'CC')\n",
      "('severity', 'NN')\n",
      "('of', 'IN')\n",
      "('dementia', 'NN')\n",
      "\n"
     ]
    }
   ],
   "source": [
    "#nltk.download('averaged_perceptron_tagger')\n",
    "selected_sentence_list = random.sample(sentence_list, 3)\n",
    "\n",
    "for sentence in selected_sentence_list:\n",
    "    print(sentence)\n",
    "    tagged_list = nltk.pos_tag(data_analysis.get_tokens_from_sentence(sentence))\n",
    "\n",
    "    for tag in tagged_list:\n",
    "        print(tag)\n",
    "\n",
    "    print(\"\")"
   ],
   "metadata": {
    "collapsed": false,
    "pycharm": {
     "name": "#%%\n"
    }
   }
  }
 ],
 "metadata": {
  "kernelspec": {
   "display_name": "Python 3",
   "language": "python",
   "name": "python3"
  },
  "language_info": {
   "codemirror_mode": {
    "name": "ipython",
    "version": 2
   },
   "file_extension": ".py",
   "mimetype": "text/x-python",
   "name": "python",
   "nbconvert_exporter": "python",
   "pygments_lexer": "ipython2",
   "version": "2.7.6"
  }
 },
 "nbformat": 4,
 "nbformat_minor": 0
}