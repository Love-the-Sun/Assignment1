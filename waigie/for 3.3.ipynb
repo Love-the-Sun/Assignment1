{
 "metadata": {
  "language_info": {
   "codemirror_mode": {
    "name": "ipython",
    "version": 3
   },
   "file_extension": ".py",
   "mimetype": "text/x-python",
   "name": "python",
   "nbconvert_exporter": "python",
   "pygments_lexer": "ipython3",
   "version": "3.8.6-final"
  },
  "orig_nbformat": 2,
  "kernelspec": {
   "name": "Python 3.8.6 64-bit ('.venv')",
   "display_name": "Python 3.8.6 64-bit ('.venv')",
   "metadata": {
    "interpreter": {
     "hash": "d9e903339838cb346f062ce83bb2fb0e359713f4f524919ae4465e83b2f4f78d"
    }
   }
  }
 },
 "nbformat": 4,
 "nbformat_minor": 2,
 "cells": [
  {
   "cell_type": "code",
   "execution_count": 2,
   "metadata": {},
   "outputs": [
    {
     "output_type": "stream",
     "name": "stderr",
     "text": [
      "[nltk_data] Downloading package vader_lexicon to\n[nltk_data]     C:\\Users\\Kieth\\AppData\\Roaming\\nltk_data...\n[nltk_data]   Package vader_lexicon is already up-to-date!\n"
     ]
    },
    {
     "output_type": "execute_result",
     "data": {
      "text/plain": [
       "True"
      ]
     },
     "metadata": {},
     "execution_count": 2
    }
   ],
   "source": [
    "# imports\n",
    "import csv\n",
    "import nltk\n",
    "from nltk.sentiment.vader import SentimentIntensityAnalyzer\n",
    "\n",
    "nltk.download('vader_lexicon')"
   ]
  },
  {
   "cell_type": "code",
   "execution_count": 3,
   "metadata": {},
   "outputs": [],
   "source": [
    "# Load csv\n",
    "data = []\n",
    "with open('Assignment 1 3.2.csv') as csvfile:\n",
    "    reader = csv.reader(csvfile)\n",
    "    for row in reader:\n",
    "        data.append(row)\n",
    "    data = data[1:]  # Remove first row\n",
    "# display(data)"
   ]
  },
  {
   "cell_type": "code",
   "execution_count": 4,
   "metadata": {
    "tags": []
   },
   "outputs": [
    {
     "output_type": "stream",
     "name": "stdout",
     "text": [
      "average predicted: 0.26, actual: 0.50\n",
      "average predicted: 0.12, actual: 1.00\n",
      "average predicted: 0.11, actual: 0.50\n",
      "average predicted: 0.71, actual: 1.00\n",
      "average predicted: 0.20, actual: 1.00\n",
      "average predicted: 0.54, actual: 1.00\n",
      "average predicted: 0.29, actual: 1.00\n",
      "average predicted: 0.59, actual: 1.00\n",
      "average predicted: 0.51, actual: 1.00\n",
      "average predicted: 0.73, actual: 1.00\n",
      "average predicted: 0.22, actual: 1.00\n",
      "average predicted: 0.37, actual: 0.50\n",
      "average predicted: 0.29, actual: 0.50\n",
      "average predicted: 0.43, actual: 0.50\n",
      "average predicted: 0.39, actual: 1.00\n",
      "average predicted: 0.60, actual: 1.00\n",
      "average predicted: 0.31, actual: 1.00\n",
      "average predicted: 0.57, actual: 1.00\n",
      "average predicted: 0.14, actual: 0.50\n",
      "average predicted: -0.05, actual: 0.50\n",
      "average predicted: 0.25, actual: 1.00\n",
      "average predicted: 0.33, actual: 1.00\n",
      "average predicted: 0.36, actual: 1.00\n",
      "average predicted: 0.83, actual: 1.00\n",
      "average predicted: 0.41, actual: 1.00\n",
      "average predicted: 0.30, actual: 1.00\n",
      "average predicted: 0.25, actual: 0.00\n",
      "average predicted: 0.06, actual: -1.00\n",
      "average predicted: 0.12, actual: -1.00\n"
     ]
    }
   ],
   "source": [
    "for row in data:\n",
    "    review = row[0]\n",
    "    if not row[4]:\n",
    "        continue\n",
    "    rating = (int(row[4]) - 3) / 2\n",
    "    sid = SentimentIntensityAnalyzer()\n",
    "    sentences = nltk.sent_tokenize(review)\n",
    "    total_score = 0\n",
    "    for sentence in sentences:\n",
    "        # print(sentence)\n",
    "        ss = sid.polarity_scores(sentence)\n",
    "        # print('predicted: %.2f' % ss['compound'])\n",
    "        total_score += ss['compound']\n",
    "    print('average predicted: %.2f, actual: %.2f' % (total_score / len(sentences), rating))"
   ]
  },
  {
   "cell_type": "code",
   "execution_count": 5,
   "metadata": {},
   "outputs": [
    {
     "output_type": "stream",
     "name": "stdout",
     "text": [
      "predicted: 0.97, actual: 0.50\n",
      "predicted: 0.74, actual: 1.00\n",
      "predicted: 0.87, actual: 0.50\n",
      "predicted: 0.98, actual: 1.00\n",
      "predicted: 0.89, actual: 1.00\n",
      "predicted: 0.96, actual: 1.00\n",
      "predicted: 0.91, actual: 1.00\n",
      "predicted: 0.96, actual: 1.00\n",
      "predicted: 0.99, actual: 1.00\n",
      "predicted: 0.97, actual: 1.00\n",
      "predicted: 0.80, actual: 1.00\n",
      "predicted: 0.88, actual: 0.50\n",
      "predicted: 0.85, actual: 0.50\n",
      "predicted: 0.95, actual: 0.50\n",
      "predicted: 0.96, actual: 1.00\n",
      "predicted: 0.97, actual: 1.00\n",
      "predicted: 0.90, actual: 1.00\n",
      "predicted: 0.96, actual: 1.00\n",
      "predicted: 0.81, actual: 0.50\n",
      "predicted: -0.76, actual: 0.50\n",
      "predicted: 0.98, actual: 1.00\n",
      "predicted: 0.98, actual: 1.00\n",
      "predicted: 0.99, actual: 1.00\n",
      "predicted: 0.99, actual: 1.00\n",
      "predicted: 0.96, actual: 1.00\n",
      "predicted: 0.98, actual: 1.00\n",
      "predicted: 0.81, actual: 0.00\n",
      "predicted: 0.94, actual: -1.00\n",
      "predicted: 0.67, actual: -1.00\n"
     ]
    }
   ],
   "source": [
    "for row in data:\n",
    "    review = row[0]\n",
    "    if not row[4]:\n",
    "        continue\n",
    "    rating = (int(row[4]) - 3) / 2\n",
    "    sid = SentimentIntensityAnalyzer()\n",
    "    sentences = nltk.sent_tokenize(review)\n",
    "    total_score = sid.polarity_scores(review)['compound']\n",
    "    print('predicted: %.2f, actual: %.2f' % (total_score, rating))"
   ]
  },
  {
   "cell_type": "code",
   "execution_count": null,
   "metadata": {},
   "outputs": [],
   "source": []
  }
 ]
}