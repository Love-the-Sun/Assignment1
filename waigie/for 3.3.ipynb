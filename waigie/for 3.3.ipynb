{
 "metadata": {
  "language_info": {
   "codemirror_mode": {
    "name": "ipython",
    "version": 3
   },
   "file_extension": ".py",
   "mimetype": "text/x-python",
   "name": "python",
   "nbconvert_exporter": "python",
   "pygments_lexer": "ipython3",
   "version": "3.8.2-final"
  },
  "orig_nbformat": 2,
  "kernelspec": {
   "name": "Python 3.8.2 64-bit",
   "display_name": "Python 3.8.2 64-bit",
   "metadata": {
    "interpreter": {
     "hash": "9e73991c6b46e39d08b5744e4f436d9d579240c38a9018f96462af95a5f416be"
    }
   }
  }
 },
 "nbformat": 4,
 "nbformat_minor": 2,
 "cells": [
  {
   "cell_type": "code",
   "execution_count": 12,
   "metadata": {},
   "outputs": [
    {
     "output_type": "stream",
     "name": "stderr",
     "text": [
      "[nltk_data] Downloading package vader_lexicon to C:\\Users\\Yuan\n[nltk_data]     Neng\\AppData\\Roaming\\nltk_data...\n[nltk_data]   Package vader_lexicon is already up-to-date!\n"
     ]
    },
    {
     "output_type": "execute_result",
     "data": {
      "text/plain": [
       "True"
      ]
     },
     "metadata": {},
     "execution_count": 12
    }
   ],
   "source": [
    "# imports\n",
    "import csv\n",
    "import nltk\n",
    "from nltk.sentiment.vader import SentimentIntensityAnalyzer\n",
    "\n",
    "nltk.download('vader_lexicon')"
   ]
  },
  {
   "cell_type": "code",
   "execution_count": 13,
   "metadata": {},
   "outputs": [],
   "source": [
    "# Load csv\n",
    "data = []\n",
    "with open('Assignment 1 3.2.csv') as csvfile:\n",
    "    reader = csv.reader(csvfile)\n",
    "    for row in reader:\n",
    "        data.append(row)\n",
    "    data = data[1:]  # Remove first row\n",
    "# display(data)"
   ]
  },
  {
   "cell_type": "code",
   "execution_count": 14,
   "metadata": {
    "tags": []
   },
   "outputs": [
    {
     "output_type": "stream",
     "name": "stdout",
     "text": [
      "average predicted: 0.26, actual: +0.2 to +0.6, correct: True\n",
      "average predicted: 0.12, actual: +0.6 to +1, correct: False\n",
      "average predicted: 0.11, actual: +0.2 to +0.6, correct: False\n",
      "average predicted: 0.71, actual: +0.6 to +1, correct: True\n",
      "average predicted: 0.20, actual: +0.6 to +1, correct: False\n",
      "average predicted: 0.54, actual: +0.6 to +1, correct: False\n",
      "average predicted: 0.29, actual: +0.6 to +1, correct: False\n",
      "average predicted: 0.59, actual: +0.6 to +1, correct: False\n",
      "average predicted: 0.51, actual: +0.6 to +1, correct: False\n",
      "average predicted: 0.73, actual: +0.6 to +1, correct: True\n",
      "average predicted: 0.22, actual: +0.6 to +1, correct: False\n",
      "average predicted: 0.37, actual: +0.2 to +0.6, correct: True\n",
      "average predicted: 0.29, actual: +0.2 to +0.6, correct: True\n",
      "average predicted: 0.43, actual: +0.2 to +0.6, correct: True\n",
      "average predicted: 0.39, actual: +0.6 to +1, correct: False\n",
      "average predicted: 0.60, actual: +0.6 to +1, correct: False\n",
      "average predicted: 0.31, actual: +0.6 to +1, correct: False\n",
      "average predicted: 0.57, actual: +0.6 to +1, correct: False\n",
      "average predicted: 0.14, actual: +0.2 to +0.6, correct: False\n",
      "average predicted: -0.05, actual: +0.2 to +0.6, correct: False\n",
      "average predicted: 0.25, actual: +0.6 to +1, correct: False\n",
      "average predicted: 0.33, actual: +0.6 to +1, correct: False\n",
      "average predicted: 0.36, actual: +0.6 to +1, correct: False\n",
      "average predicted: 0.83, actual: +0.6 to +1, correct: True\n",
      "average predicted: 0.41, actual: +0.6 to +1, correct: False\n",
      "average predicted: 0.30, actual: +0.6 to +1, correct: False\n",
      "average predicted: 0.25, actual: -0.2 to +0.2, correct: False\n",
      "average predicted: 0.06, actual: -1 to -0.6, correct: False\n",
      "average predicted: 0.12, actual: -1 to -0.6, correct: False\n",
      "correct count:  7\n"
     ]
    }
   ],
   "source": [
    "correct = 0\n",
    "for row in data:\n",
    "    correct_boolean = False\n",
    "    review = row[0]\n",
    "    if not row[4]:\n",
    "        continue\n",
    "\n",
    "    sid = SentimentIntensityAnalyzer()\n",
    "    sentences = nltk.sent_tokenize(review)\n",
    "    total_score = 0\n",
    "    for sentence in sentences:\n",
    "        # print(sentence)\n",
    "        ss = sid.polarity_scores(sentence)\n",
    "        # print('predicted: %.2f' % ss['compound'])\n",
    "        total_score += ss['compound']\n",
    "    predicted = total_score / len(sentences)\n",
    "\n",
    "    if row[4]=='1':\n",
    "        rating = '-1 to -0.6'\n",
    "        if predicted<-0.6:\n",
    "            correct+=1\n",
    "            correct_boolean=True\n",
    "    elif row[4]=='2':\n",
    "        rating = '-0.6 to -0.2'\n",
    "        if predicted<-0.2 and predicted>=-0.6:\n",
    "            correct+=1\n",
    "            correct_boolean=True\n",
    "    elif row[4]=='3':\n",
    "        rating = '-0.2 to +0.2'\n",
    "        if predicted<0.2 and predicted>=-0.2:\n",
    "            correct+=1\n",
    "            correct_boolean=True\n",
    "    elif row[4]=='4':\n",
    "        rating = '+0.2 to +0.6'\n",
    "        if predicted<0.6 and predicted>=0.2:\n",
    "            correct+=1\n",
    "            correct_boolean=True\n",
    "    elif row[4]=='5':\n",
    "        rating = '+0.6 to +1'\n",
    "        if predicted>=0.6:\n",
    "            correct+=1\n",
    "            correct_boolean=True\n",
    "\n",
    "    print('average predicted: %.2f, actual: %s, correct: %s' % (predicted, rating,correct_boolean))\n",
    "\n",
    "print('correct count: ', correct)"
   ]
  },
  {
   "cell_type": "code",
   "execution_count": 18,
   "metadata": {},
   "outputs": [
    {
     "output_type": "stream",
     "name": "stdout",
     "text": [
      "average predicted: 0.97, actual: +0.2 to +0.6, correct: False\n",
      "average predicted: 0.74, actual: +0.6 to +1, correct: True\n",
      "average predicted: 0.87, actual: +0.2 to +0.6, correct: False\n",
      "average predicted: 0.98, actual: +0.6 to +1, correct: True\n",
      "average predicted: 0.89, actual: +0.6 to +1, correct: True\n",
      "average predicted: 0.96, actual: +0.6 to +1, correct: True\n",
      "average predicted: 0.91, actual: +0.6 to +1, correct: True\n",
      "average predicted: 0.96, actual: +0.6 to +1, correct: True\n",
      "average predicted: 0.99, actual: +0.6 to +1, correct: True\n",
      "average predicted: 0.97, actual: +0.6 to +1, correct: True\n",
      "average predicted: 0.80, actual: +0.6 to +1, correct: True\n",
      "average predicted: 0.88, actual: +0.2 to +0.6, correct: False\n",
      "average predicted: 0.85, actual: +0.2 to +0.6, correct: False\n",
      "average predicted: 0.95, actual: +0.2 to +0.6, correct: False\n",
      "average predicted: 0.96, actual: +0.6 to +1, correct: True\n",
      "average predicted: 0.97, actual: +0.6 to +1, correct: True\n",
      "average predicted: 0.90, actual: +0.6 to +1, correct: True\n",
      "average predicted: 0.96, actual: +0.6 to +1, correct: True\n",
      "average predicted: 0.81, actual: +0.2 to +0.6, correct: False\n",
      "average predicted: -0.76, actual: +0.2 to +0.6, correct: False\n",
      "average predicted: 0.98, actual: +0.6 to +1, correct: True\n",
      "average predicted: 0.98, actual: +0.6 to +1, correct: True\n",
      "average predicted: 0.99, actual: +0.6 to +1, correct: True\n",
      "average predicted: 0.99, actual: +0.6 to +1, correct: True\n",
      "average predicted: 0.96, actual: +0.6 to +1, correct: True\n",
      "average predicted: 0.98, actual: +0.6 to +1, correct: True\n",
      "average predicted: 0.81, actual: -0.2 to +0.2, correct: False\n",
      "average predicted: 0.94, actual: -1 to -0.6, correct: False\n",
      "average predicted: 0.67, actual: -1 to -0.6, correct: False\n",
      "correct count:  19\n"
     ]
    }
   ],
   "source": [
    "correct = 0\n",
    "for row in data:\n",
    "    correct_boolean = False\n",
    "    review = row[0]\n",
    "    if not row[4]:\n",
    "        continue\n",
    "\n",
    "    sid = SentimentIntensityAnalyzer()\n",
    "    sentences = nltk.sent_tokenize(review)\n",
    "    predicted = sid.polarity_scores(review)['compound']\n",
    "\n",
    "    if row[4]=='1':\n",
    "        rating = '-1 to -0.6'\n",
    "        if predicted<-0.6:\n",
    "            correct+=1\n",
    "            correct_boolean=True\n",
    "    elif row[4]=='2':\n",
    "        rating = '-0.6 to -0.2'\n",
    "        if predicted<-0.2 and predicted>=-0.6:\n",
    "            correct+=1\n",
    "            correct_boolean=True\n",
    "    elif row[4]=='3':\n",
    "        rating = '-0.2 to +0.2'\n",
    "        if predicted<0.2 and predicted>=-0.2:\n",
    "            correct+=1\n",
    "            correct_boolean=True\n",
    "    elif row[4]=='4':\n",
    "        rating = '+0.2 to +0.6'\n",
    "        if predicted<0.6 and predicted>=0.2:\n",
    "            correct+=1\n",
    "            correct_boolean=True\n",
    "    elif row[4]=='5':\n",
    "        rating = '+0.6 to +1'\n",
    "        if predicted>=0.6:\n",
    "            correct+=1\n",
    "            correct_boolean=True\n",
    "\n",
    "    print('average predicted: %.2f, actual: %s, correct: %s' % (predicted, rating,correct_boolean))\n",
    "\n",
    "print('correct count: ', correct)"
   ]
  },
  {
   "cell_type": "code",
   "execution_count": null,
   "metadata": {},
   "outputs": [],
   "source": []
  }
 ]
}