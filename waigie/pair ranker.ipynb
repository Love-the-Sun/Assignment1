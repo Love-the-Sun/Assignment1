{
 "metadata": {
  "language_info": {
   "codemirror_mode": {
    "name": "ipython",
    "version": 3
   },
   "file_extension": ".py",
   "mimetype": "text/x-python",
   "name": "python",
   "nbconvert_exporter": "python",
   "pygments_lexer": "ipython3",
   "version": "3.8.6-final"
  },
  "orig_nbformat": 2,
  "kernelspec": {
   "name": "Python 3.8.6 64-bit ('.venv')",
   "display_name": "Python 3.8.6 64-bit ('.venv')",
   "metadata": {
    "interpreter": {
     "hash": "d9e903339838cb346f062ce83bb2fb0e359713f4f524919ae4465e83b2f4f78d"
    }
   }
  }
 },
 "nbformat": 4,
 "nbformat_minor": 2,
 "cells": [
  {
   "cell_type": "code",
   "execution_count": 21,
   "metadata": {},
   "outputs": [],
   "source": [
    "# imports\n",
    "import spacy\n",
    "import csv\n",
    "import nltk\n",
    "\n",
    "nlp = spacy.load('en_core_web_sm')"
   ]
  },
  {
   "cell_type": "code",
   "execution_count": 22,
   "metadata": {},
   "outputs": [],
   "source": [
    "# Load csv\n",
    "data = []\n",
    "with open('Assignment 1 3.2.csv') as csvfile:\n",
    "    reader = csv.reader(csvfile)\n",
    "    for row in reader:\n",
    "        data.append(row)\n",
    "    data = data[1:]  # Remove first row\n",
    "# display(data)"
   ]
  },
  {
   "cell_type": "code",
   "execution_count": 23,
   "metadata": {},
   "outputs": [],
   "source": [
    "# Defining pair extractor\n",
    "def extract_pair(sentence: str):\n",
    "    tokens = nlp(sentence)\n",
    "    pairs = []\n",
    "    for i, token in enumerate(tokens):\n",
    "        if token.pos_ not in ('NOUN', 'PROPN'):\n",
    "            continue\n",
    "        for j in range(i+1, len(tokens)):\n",
    "            if tokens[j].pos_ == 'ADJ':\n",
    "                pairs.append((token, tokens[j]))\n",
    "    return pairs"
   ]
  },
  {
   "cell_type": "code",
   "execution_count": 25,
   "metadata": {},
   "outputs": [
    {
     "output_type": "display_data",
     "data": {
      "text/plain": "{'Sami, traditional': 4,\n 'place, many': 3,\n 'landscape, great': 3,\n 'Abisko, beautiful': 2,\n 'stuff, amazing': 2,\n 'obstacles, amazing': 2,\n 'time, amazing': 2,\n 'issues, amazing': 2,\n 'Abisko, amazing': 2,\n 'beginners, perfect': 2,\n 'bit, perfect': 2,\n 'day, strenuous': 2,\n 'sledge, brilliant': 2,\n 'ride, brilliant': 2,\n 'it?s, much': 2,\n 'it?s, dark': 2,\n 'start, many': 2,\n 'day, easy': 2,\n 'lake, easy': 2,\n 'lights, more': 2,\n 'landscape, isolated': 2,\n 'scenery, spectacular': 2,\n 'track, red': 2,\n 'time, further': 2,\n 'trail, pleasant': 2,\n 'trail, easy': 2,\n 'rooftop, sturdy': 2,\n 'Sami, only': 2,\n 'Sami, closed': 2,\n 'Sami, late': 2,\n 'camp, only': 2,\n 'camp, closed': 2,\n 'camp, late': 2,\n 'reconstruction, traditional': 2,\n 'National, closed': 2,\n 'National, late': 2,\n 'information, more': 2,\n 'name, spanish': 2,\n 'Northern, beautiful': 1,\n 'Lights, beautiful': 1,\n 'National, beautiful': 1,\n 'Park, beautiful': 1,\n 'disappointment, few': 1,\n 'disappointment, operational': 1,\n 'accomodation, few': 1,\n 'accomodation, operational': 1,\n 'email, few': 1,\n 'email, operational': 1,\n 'days, operational': 1,\n 'activities, operational': 1,\n 'operation, operational': 1,\n 'week, operational': 1,\n 'restaurant, operational': 1,\n 'train, open': 1,\n 'hour, open': 1,\n 'trip, open': 1,\n 'time, open': 1,\n 'hours, open': 1,\n 'room, open': 1,\n 'reception, open': 1,\n 'stuff, few': 1,\n 'use, few': 1,\n 'stuff, annoying': 1,\n 'area, amazing': 1,\n 'part, lucky': 1,\n 'location, grateful': 1,\n 'location, able': 1,\n 'location, amazing': 1,\n 'Trails, low': 1,\n 'Sign, low': 1,\n 'lot, low': 1,\n 'Abisko, low': 1,\n 'lights, bored': 1,\n 'trails, much': 1,\n 'ability, much': 1,\n 'October, heavy': 1,\n 'indicators, reassuring': 1,\n 'trails, reassuring': 1,\n 'village, less': 1,\n '40mins, less': 1,\n 'train, less': 1,\n 'hiking, perfect': 1,\n 'area, perfect': 1,\n 'number, strenuous': 1,\n 'hikes, strenuous': 1,\n 'half, strenuous': 1,\n 'one, difficult': 1,\n 'one, soggy': 1,\n 'one, many': 1,\n 'one, marked': 1,\n 'bit, difficult': 1,\n 'bit, soggy': 1,\n 'bit, many': 1,\n 'bit, marked': 1,\n 'ground, soggy': 1,\n 'ground, many': 1,\n 'ground, marked': 1,\n 'places, marked': 1,\n 'path, marked': 1,\n 'point, marked': 1,\n 'repellent, effective': 1,\n 'repellent, considerable': 1,\n 'sock, considerable': 1,\n 'Winter, perfect': 1,\n 'view, perfect': 1,\n 'Abisko, perfect': 1,\n 'Mountain, perfect': 1,\n 'Lodge, perfect': 1,\n 'sledge, snowy': 1,\n 'sledge, heated': 1,\n 'ride, snowy': 1,\n 'ride, heated': 1,\n 'Julia, snowy': 1,\n 'Julia, heated': 1,\n 'Julia, brilliant': 1,\n 'lanes, heated': 1,\n 'lanes, brilliant': 1,\n 'tipee, heated': 1,\n 'tipee, brilliant': 1,\n 'fire, heated': 1,\n 'fire, brilliant': 1,\n 'drinks, brilliant': 1,\n 'cinnamon, brilliant': 1,\n 'buns, brilliant': 1,\n 'dogs, great': 1,\n 'dogs, friendly': 1,\n 'sledges, friendly': 1,\n 'bouncy, friendly': 1,\n 'Hiking, peaceful': 1,\n 'walking, different': 1,\n 'routes, different': 1,\n 'time, only': 1,\n 'time, light': 1,\n 'year, only': 1,\n 'year, light': 1,\n 'it?s, only': 1,\n 'it?s, light': 1,\n 'o, much': 1,\n 'o, dark': 1,\n 'clock, much': 1,\n 'clock, dark': 1,\n 'pitch, dark': 1,\n 'Splendid, biased': 1,\n 'Splendid, favourite': 1,\n 'Splendid, colder': 1,\n 'tundra, biased': 1,\n 'tundra, favourite': 1,\n 'tundra, colder': 1,\n 'hikes, biased': 1,\n 'hikes, favourite': 1,\n 'hikes, colder': 1,\n 'type, colder': 1,\n 'holiday, colder': 1,\n 'Abisko, accessible': 1,\n 'scenery, accessible': 1,\n 'summer, determined': 1,\n 'summer, beautiful': 1,\n 'summer, early': 1,\n 'summer, more': 1,\n 'autumn, beautiful': 1,\n 'autumn, early': 1,\n 'autumn, more': 1,\n 'colours, beautiful': 1,\n 'colours, early': 1,\n 'colours, more': 1,\n 'spring, more': 1,\n 'place, more': 1,\n 'start, more': 1,\n 'start, beautiful': 1,\n 'Kungsleden, more': 1,\n 'Kungsleden, beautiful': 1,\n 'Kungsleden, many': 1,\n 'hikers, northern': 1,\n 'hikers, many': 1,\n 'hikers, shorter': 1,\n 'park, northern': 1,\n 'park, many': 1,\n 'park, shorter': 1,\n 'start, shorter': 1,\n 'King, many': 1,\n 'King, shorter': 1,\n 'Trail, many': 1,\n 'Trail, shorter': 1,\n 'place, shorter': 1,\n 'options, shorter': 1,\n 'availability, wonderful': 1,\n 'huts, wonderful': 1,\n 'campsites, wonderful': 1,\n 'Beautiful, GREAT': 1,\n 'Park, GREAT': 1,\n 'night, spectacular': 1,\n 'hotel, national': 1,\n 'hotel, great': 1,\n 'park, great': 1,\n 'STF, great': 1,\n 'Abisko, great': 1,\n 'Mountain, great': 1,\n 'Station, great': 1,\n 'rooms, fancy': 1,\n 'rooms, big': 1,\n 'rooms, nice': 1,\n 'king, nice': 1,\n 'bed, nice': 1,\n 'day, frozen': 1,\n 'day, great': 1,\n 'lake, great': 1,\n 'lights, best': 1,\n 'lights, northern': 1,\n 'experienc, best': 1,\n 'experienc, northern': 1,\n 'experienc, more': 1,\n 'research, best': 1,\n 'research, northern': 1,\n 'research, more': 1,\n 'Abisko, best': 1,\n 'Abisko, northern': 1,\n 'Abisko, more': 1,\n 'location, best': 1,\n 'location, northern': 1,\n 'location, more': 1,\n 'Europe, best': 1,\n 'Europe, northern': 1,\n 'Europe, more': 1,\n 'mountains, best': 1,\n 'mountains, northern': 1,\n 'mountains, more': 1,\n 'cloud, best': 1,\n 'cloud, northern': 1,\n 'cloud, more': 1,\n 'cover, best': 1,\n 'cover, northern': 1,\n 'cover, more': 1,\n 'places, northern': 1,\n 'places, more': 1,\n 'January, beautiful': 1,\n 'maximum, beautiful': 1,\n 'hours, beautiful': 1,\n 'webcam, local': 1,\n 'webcam, northern': 1,\n 'webcam, stunning': 1,\n 'companies, northern': 1,\n 'companies, stunning': 1,\n 'Lights, northern': 1,\n 'Lights, stunning': 1,\n 'Lapland, northern': 1,\n 'Lapland, stunning': 1,\n 'lights, stunning': 1,\n 'activies, stunning': 1,\n 'magic, stunning': 1,\n 'train, memorable': 1,\n 'journey, memorable': 1,\n 'Arctic, memorable': 1,\n 'circle, memorable': 1,\n 'glimpse, memorable': 1,\n 'vastness, pure': 1,\n 'Northern, entrenched': 1,\n 'Lights, entrenched': 1,\n 'Dog, entrenched': 1,\n 'experiences, entrenched': 1,\n 'landscape, stunning': 1,\n 'cabins, stunning': 1,\n 'cabins, great': 1,\n 'cabins, isolated': 1,\n 'Bjorkliden, stunning': 1,\n 'Bjorkliden, great': 1,\n 'Bjorkliden, isolated': 1,\n 'Kappas, stunning': 1,\n 'Kappas, great': 1,\n 'Kappas, isolated': 1,\n 'village, stunning': 1,\n 'village, great': 1,\n 'village, isolated': 1,\n 'weather, great': 1,\n 'weather, isolated': 1,\n 'winter, great': 1,\n 'winter, isolated': 1,\n 'place, great': 1,\n 'place, isolated': 1,\n 'beauty, isolated': 1,\n 'skies, mega': 1,\n 'skies, Siberian': 1,\n 'auroras, mega': 1,\n 'auroras, Siberian': 1,\n 'displays, Siberian': 1,\n 'week, Siberian': 1,\n 'Winter, great': 1,\n 'Winter, sled': 1,\n 'Winter, many': 1,\n 'Winter, few': 1,\n 'Winter, first': 1,\n 'wonderland, great': 1,\n 'wonderland, sled': 1,\n 'wonderland, many': 1,\n 'wonderland, few': 1,\n 'wonderland, first': 1,\n 'place, sled': 1,\n 'place, few': 1,\n 'place, first': 1,\n 'ski, many': 1,\n 'ski, few': 1,\n 'ski, first': 1,\n 'beauty, many': 1,\n 'beauty, few': 1,\n 'beauty, first': 1,\n 'silver, few': 1,\n 'silver, first': 1,\n 'birch, few': 1,\n 'birch, first': 1,\n 'firs, first': 1,\n 'week, clear': 1,\n 'day, clear': 1,\n 'sky, clear': 1,\n 'hole, real': 1,\n 'Abisko, real': 1,\n 'nature, nice': 1,\n 'nature, full': 1,\n 'park, nice': 1,\n 'park, full': 1,\n 'area, full': 1,\n 'site, interesting': 1,\n 'site, local': 1,\n 'birds, interesting': 1,\n 'birds, local': 1,\n 'hiking, local': 1,\n 'trails, local': 1,\n 'exploration, local': 1,\n 'valley, local': 1,\n 'naturium, more': 1,\n 'center, more': 1,\n 'winter, more': 1,\n 'opportunities, more': 1,\n 'map, different': 1,\n 'trails, different': 1,\n 'snowshoeing, different': 1,\n 'tourists, different': 1,\n 'park, different': 1,\n 'Abisko, national': 1,\n 'Abisko, European': 1,\n 'park, European': 1,\n 'overland, European': 1,\n 'trip, European': 1,\n 'Dubai, European': 1,\n 'night, beautiful': 1,\n 'sun, beautiful': 1,\n 'nature, best': 1,\n 'nature, peaceful': 1,\n 'nature, welcoming': 1,\n 'nature, wild': 1,\n 'Park, peaceful': 1,\n 'Park, welcoming': 1,\n 'Park, wild': 1,\n 'Hiking, wild': 1,\n 'hiking, wild': 1,\n 'wonderland, wild': 1,\n 'plants, wild': 1,\n 'trees, wild': 1,\n 'place, vast': 1,\n 'place, tall': 1,\n 'place, wild': 1,\n 'lake, tall': 1,\n 'lake, wild': 1,\n 'mountains, wild': 1,\n 'serenity, spectacular': 1,\n 'adventure, spectacular': 1,\n 'challenge, spectacular': 1,\n 'hours, spectacular': 1,\n 'park, spectacular': 1,\n 'Gorge, amazing': 1,\n 'Gorge, frozen': 1,\n 'Gorge, wonderful': 1,\n 'waterfall, wonderful': 1,\n 'river, wonderful': 1,\n 'u, shaped': 1,\n 'u, superb': 1,\n 'valley, superb': 1,\n 'skyline, superb': 1,\n 'snow, superb': 1,\n 'hills, superb': 1,\n 'mountains, superb': 1,\n 'dog, careful': 1,\n 'sleds, careful': 1,\n 'park, careful': 1,\n 'way, national': 1,\n 'Enjoyed, marked': 1,\n 'Enjoyed, difficult': 1,\n 'Enjoyed, most': 1,\n 'walk, marked': 1,\n 'walk, difficult': 1,\n 'walk, most': 1,\n 'path, difficult': 1,\n 'path, most': 1,\n 'winter, most': 1,\n 'snow, most': 1,\n 'orange, marked': 1,\n 'route, lovely': 1,\n 'route, frozen': 1,\n 'route, birch': 1,\n 'river, birch': 1,\n 'bend, red': 1,\n 'snow, red': 1,\n 'left, red': 1,\n 'posts, red': 1,\n 'husband, further': 1,\n 'husband, orange': 1,\n 'time, orange': 1,\n 'way, easy': 1,\n 'way, trodden': 1,\n 'direction, easy': 1,\n 'direction, trodden': 1,\n 'track, trodden': 1,\n 'walk, further': 1,\n 'park, further': 1,\n 'Park, non': 1,\n 'Rangers, non': 1,\n 'signage, non': 1,\n 'winter, non': 1,\n 'conditions, non': 1,\n 'use, non': 1,\n 'Lapland, worried': 1,\n 'Lapland, unlucky': 1,\n 'course, worried': 1,\n 'course, unlucky': 1,\n 'Northern, worried': 1,\n 'Northern, unlucky': 1,\n 'Lights, worried': 1,\n 'Lights, unlucky': 1,\n 'visit, worried': 1,\n 'visit, unlucky': 1,\n 'Kiruna, last': 1,\n 'days, last': 1,\n 'nighttime, able': 1,\n 'hiking, snowy': 1,\n 'canyon, pleasant': 1,\n 'canyon, easy': 1,\n 'lake, pleasant': 1,\n 'day, pleasant': 1,\n 'ice, cool': 1,\n 'climbers, cool': 1,\n 'canyon, cool': 1,\n 'Northern, wonderful': 1,\n 'Lights, wonderful': 1,\n 'Abisko, wonderful': 1,\n 'nights, wonderful': 1,\n 'middle, wonderful': 1,\n 'February, wonderful': 1,\n 'people, unique': 1,\n 'people, micro': 1,\n 'people, true': 1,\n 'region, unique': 1,\n 'region, micro': 1,\n 'region, true': 1,\n '-, true': 1,\n 'climate, true': 1,\n 'days, clear': 1,\n 'evening, daytime': 1,\n 'weather, daytime': 1,\n 'conditions, daytime': 1,\n 'opposite, daytime': 1,\n 'days, cloudier': 1,\n 'Sky, current': 1,\n 'Station, current': 1,\n 'Lights, current': 1,\n 'Lapland, current': 1,\n 'stars, great': 1,\n 'sky, real': 1,\n 'station, real': 1,\n 'snow, brilliant': 1,\n 'mountain, brilliant': 1,\n 'bit, small': 1,\n 'bit, unstable': 1,\n 'bit, sturdy': 1,\n 'climb, small': 1,\n 'climb, perfect': 1,\n 'climb, unstable': 1,\n 'climb, sturdy': 1,\n 'winding, small': 1,\n 'winding, perfect': 1,\n 'winding, unstable': 1,\n 'winding, sturdy': 1,\n 'staircase, small': 1,\n 'staircase, perfect': 1,\n 'staircase, unstable': 1,\n 'staircase, sturdy': 1,\n 'rooftop, perfect': 1,\n 'rooftop, unstable': 1,\n 'station, perfect': 1,\n 'station, unstable': 1,\n 'station, sturdy': 1,\n 'aurora, unstable': 1,\n 'aurora, sturdy': 1,\n 'photography, unstable': 1,\n 'photography, sturdy': 1,\n 'conditions, sturdy': 1,\n 'mountain, sturdy': 1,\n 'rooftop, able': 1,\n 'rooftop, great': 1,\n 'guardrail, able': 1,\n 'guardrail, great': 1,\n 'number, able': 1,\n 'number, great': 1,\n 'people, able': 1,\n 'people, great': 1,\n 'tripods, able': 1,\n 'tripods, great': 1,\n 'Aurora, worth': 1,\n 'Borealis, worth': 1,\n 'hike, local': 1,\n 'snow, local': 1,\n 'shoes, local': 1,\n 'hills, whole': 1,\n 'hills, huge': 1,\n 'views, whole': 1,\n 'views, huge': 1,\n 'valley, huge': 1,\n 'photography, many': 1,\n 'photography, gorgeous': 1,\n 'collection, indigenous': 1,\n 'Sami, indigenous': 1,\n 'beauty, astounding': 1,\n 'moose, elusive': 1,\n 'Abisko, huge': 1,\n 'mountain, huge': 1,\n 'range, huge': 1,\n 'park, fabulous': 1,\n 'aurora, fabulous': 1,\n 'tour, outstanding': 1,\n 'company, outstanding': 1,\n 'Lapland, outstanding': 1,\n 'photographer, helpful': 1,\n 'photographer, knowledgeable': 1,\n 'photographer, available': 1,\n 'photographer, patient': 1,\n 'photographer, friendly': 1,\n 'photographer, spectacular-': 1,\n 'photographer, lucky': 1,\n 'photographer, clear': 1,\n 'photographer, sunny': 1,\n 'photographer, glorious': 1,\n 'photographer, frozen': 1,\n 'photographer, several': 1,\n 'photographer, awesome': 1,\n 'Englishman, helpful': 1,\n 'Englishman, knowledgeable': 1,\n 'Englishman, available': 1,\n 'Englishman, patient': 1,\n 'Englishman, friendly': 1,\n 'Englishman, spectacular-': 1,\n 'Englishman, lucky': 1,\n 'Englishman, clear': 1,\n 'Englishman, sunny': 1,\n 'Englishman, glorious': 1,\n 'Englishman, frozen': 1,\n 'Englishman, several': 1,\n 'Englishman, awesome': 1,\n 'Oliver, helpful': 1,\n 'Oliver, knowledgeable': 1,\n 'Oliver, available': 1,\n 'Oliver, patient': 1,\n 'Oliver, friendly': 1,\n 'Oliver, spectacular-': 1,\n 'Oliver, lucky': 1,\n 'Oliver, clear': 1,\n 'Oliver, sunny': 1,\n 'Oliver, glorious': 1,\n 'Oliver, frozen': 1,\n 'Oliver, several': 1,\n 'Oliver, awesome': 1,\n 'setting, spectacular-': 1,\n 'setting, lucky': 1,\n 'setting, clear': 1,\n 'setting, sunny': 1,\n 'setting, glorious': 1,\n 'setting, frozen': 1,\n 'setting, several': 1,\n 'setting, awesome': 1,\n 'days, glorious': 1,\n 'days, frozen': 1,\n 'days, several': 1,\n 'days, awesome': 1,\n 'hoarfrost, glorious': 1,\n 'hoarfrost, frozen': 1,\n 'hoarfrost, several': 1,\n 'hoarfrost, awesome': 1,\n 'ice, glorious': 1,\n 'ice, frozen': 1,\n 'ice, several': 1,\n 'ice, awesome': 1,\n 'crystals, glorious': 1,\n 'crystals, frozen': 1,\n 'crystals, several': 1,\n 'crystals, awesome': 1,\n 'trees, glorious': 1,\n 'trees, frozen': 1,\n 'trees, several': 1,\n 'trees, awesome': 1,\n 'views, frozen': 1,\n 'views, several': 1,\n 'views, awesome': 1,\n 'lake, several': 1,\n 'lake, awesome': 1,\n 'aurora, several': 1,\n 'aurora, awesome': 1,\n 'nights, awesome': 1,\n 'ski, awesome': 1,\n 'lift, awesome': 1,\n 'Sky, awesome': 1,\n 'Station-, awesome': 1,\n 'km, tremendous': 1,\n 'km, small': 1,\n 'km, clean': 1,\n 'km, adequate': 1,\n 'km, excellent': 1,\n 'dog, tremendous': 1,\n 'dog, small': 1,\n 'dog, clean': 1,\n 'dog, adequate': 1,\n 'dog, excellent': 1,\n 'excursion, tremendous': 1,\n 'excursion, small': 1,\n 'excursion, clean': 1,\n 'excursion, adequate': 1,\n 'excursion, excellent': 1,\n 'fun, small': 1,\n 'fun, clean': 1,\n 'fun, adequate': 1,\n 'fun, excellent': 1,\n 'Rooms, small': 1,\n 'Rooms, clean': 1,\n 'Rooms, adequate': 1,\n 'Rooms, excellent': 1,\n 'meals, excellent': 1,\n 'Abisko, mild': 1,\n 'Abisko, snowy': 1,\n 'Abisko, awesome': 1,\n 'National, mild': 1,\n 'National, snowy': 1,\n 'National, awesome': 1,\n 'Park, mild': 1,\n 'Park, snowy': 1,\n 'Park, awesome': 1,\n 'Feb, mild': 1,\n 'Feb, snowy': 1,\n 'Feb, awesome': 1,\n 'weather, mild': 1,\n 'weather, snowy': 1,\n 'weather, awesome': 1,\n 'degrees, snowy': 1,\n 'degrees, awesome': 1,\n 'landscape, awesome': 1,\n 'wilderness, awesome': 1,\n 'Arctic, unknown': 1,\n 'Arctic, birch': 1,\n 'hares, unknown': 1,\n 'hares, birch': 1,\n 'plenty, unknown': 1,\n 'plenty, birch': 1,\n 'animal, unknown': 1,\n 'animal, birch': 1,\n 'tracks, unknown': 1,\n 'tracks, birch': 1,\n 'creatures, birch': 1,\n 'Sky, magical': 1,\n 'centre, magical': 1,\n 'adventure, fresh': 1,\n 'adventure, serene': 1,\n 'adventure, sheer': 1,\n 'Abisko, fresh': 1,\n 'Abisko, serene': 1,\n 'Abisko, sheer': 1,\n 'National, fresh': 1,\n 'National, serene': 1,\n 'National, sheer': 1,\n 'Park, fresh': 1,\n 'Park, serene': 1,\n 'Park, sheer': 1,\n 'vastness, fresh': 1,\n 'vastness, serene': 1,\n 'vastness, sheer': 1,\n 'snow, serene': 1,\n 'snow, sheer': 1,\n 'snowfall, serene': 1,\n 'snowfall, sheer': 1,\n 'atmosphere, sheer': 1,\n 'Nights, lowest': 1,\n 'Nights, cloudy': 1,\n 'Nights, few': 1,\n 'skies, cloudy': 1,\n 'skies, few': 1,\n 'skies, wonderful': 1,\n 'Accommodation, cosy': 1,\n 'Accommodation, clean': 1,\n 'Accommodation, quiet': 1,\n 'Accommodation, hospitable': 1,\n 'Abisko, cosy': 1,\n 'Abisko, clean': 1,\n 'Abisko, quiet': 1,\n 'Abisko, hospitable': 1,\n 'Guesthouse, cosy': 1,\n 'Guesthouse, clean': 1,\n 'Guesthouse, quiet': 1,\n 'Guesthouse, hospitable': 1,\n 'camp, traditional': 1,\n 'reconstruction, only': 1,\n 'reconstruction, closed': 1,\n 'reconstruction, late': 1,\n 'National, traditional': 1,\n 'National, only': 1,\n 'park, traditional': 1,\n 'park, only': 1,\n 'park, closed': 1,\n 'park, late': 1,\n 'structure, closed': 1,\n 'structure, late': 1,\n 'Park, closed': 1,\n 'Park, late': 1,\n 'm, quiet': 1,\n 'm, meditative': 1,\n 'Tourist, quiet': 1,\n 'Tourist, meditative': 1,\n 'Centre, quiet': 1,\n 'Centre, meditative': 1,\n 'reconstruction, short': 1,\n 'type, traditional': 1,\n 'type, short': 1,\n 'structures, traditional': 1,\n 'structures, short': 1,\n 'Sami, short': 1,\n 'camp, short': 1,\n 'board, more': 1,\n 'entrance, more': 1,\n 'camp, more': 1,\n 'information, available': 1,\n 'staff, last': 1,\n 'dog, last': 1,\n 'sleigh, last': 1,\n 'name, little': 1,\n 'name, boyish': 1,\n 'bit, boyish': 1,\n 'suits, lazy': 1,\n 'shoes, lazy': 1,\n 'shoes, sboe': 1,\n 'team, male': 1,\n 'team, sweet': 1,\n 'guide, sweet': 1,\n 'Shane, spanish': 1,\n 'Shane, rude': 1,\n 'name, rude': 1,\n 'tour, good': 1,\n 'tour, cute': 1,\n 'dogs, cute': 1,\n 'activities, 25th': 1,\n 'activities, organised': 1,\n 'park, 25th': 1,\n 'park, organised': 1,\n 'March, organised': 1,\n '(signage, organised': 1,\n 'lot, organised': 1,\n 'negligence, worst': 1,\n 'ecosystem, easy': 1,\n 'ecosystem, sad': 1,\n 'money, sad': 1}"
     },
     "metadata": {}
    }
   ],
   "source": [
    "noun_adj_pairs = {}\n",
    "\n",
    "for row in data:\n",
    "    review = row[0]\n",
    "    sentences = nltk.sent_tokenize(review)\n",
    "    for sent in sentences:\n",
    "        pairs = extract_pair(sent)\n",
    "        for pair in pairs:\n",
    "            pair_str = '%s, %s' % (pair[0], pair[1])\n",
    "            if pair_str not in noun_adj_pairs:\n",
    "                noun_adj_pairs[pair_str] = 1\n",
    "            else:\n",
    "                noun_adj_pairs[pair_str] += 1\n",
    "\n",
    "# sort them\n",
    "noun_adj_pairs = {k: v for k, v in sorted(noun_adj_pairs.items(), key=lambda item: item[1], reverse=True)}\n",
    "display(noun_adj_pairs)"
   ]
  },
  {
   "cell_type": "code",
   "execution_count": null,
   "metadata": {},
   "outputs": [],
   "source": []
  }
 ]
}