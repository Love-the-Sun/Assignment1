{
 "metadata": {
  "language_info": {
   "codemirror_mode": {
    "name": "ipython",
    "version": 3
   },
   "file_extension": ".py",
   "mimetype": "text/x-python",
   "name": "python",
   "nbconvert_exporter": "python",
   "pygments_lexer": "ipython3",
   "version": "3.8.6-final"
  },
  "orig_nbformat": 2,
  "kernelspec": {
   "name": "Python 3.8.6 64-bit ('.venv')",
   "display_name": "Python 3.8.6 64-bit ('.venv')",
   "metadata": {
    "interpreter": {
     "hash": "d9e903339838cb346f062ce83bb2fb0e359713f4f524919ae4465e83b2f4f78d"
    }
   }
  }
 },
 "nbformat": 4,
 "nbformat_minor": 2,
 "cells": [
  {
   "cell_type": "code",
   "execution_count": 13,
   "metadata": {},
   "outputs": [],
   "source": [
    "# imports\n",
    "import spacy\n",
    "import csv\n",
    "import nltk\n",
    "\n",
    "nlp = spacy.load('en_core_web_sm')"
   ]
  },
  {
   "cell_type": "code",
   "execution_count": 14,
   "metadata": {},
   "outputs": [],
   "source": [
    "# Load csv\n",
    "data = []\n",
    "with open('Assignment 1 3.2.csv') as csvfile:\n",
    "    reader = csv.reader(csvfile)\n",
    "    for row in reader:\n",
    "        data.append(row)\n",
    "    data = data[1:]  # Remove first row\n",
    "# display(data)"
   ]
  },
  {
   "cell_type": "code",
   "execution_count": 15,
   "metadata": {},
   "outputs": [],
   "source": [
    "# Defining pair extractor\n",
    "def extract_pair(sentence: str):\n",
    "    noun_tags = ['NOUN', 'PROPN']\n",
    "    adj_tags = ['ADJ']\n",
    "    tokens = nlp(sentence)\n",
    "    pairs = []\n",
    "    # Look forward only\n",
    "    # for i, token in enumerate(tokens):\n",
    "    #     if token.pos_ not in noun_tags:\n",
    "    #         continue\n",
    "    #     for j in range(i+1, len(tokens)):\n",
    "    #         if tokens[j].pos_ in adj_tags:\n",
    "    #             pairs.append((token, tokens[j]))\n",
    "    # Interpolate\n",
    "    nouns = []\n",
    "    adjs = []\n",
    "    for token in tokens:\n",
    "        token_str = str(token).lower()\n",
    "        if token.pos_ in noun_tags and token_str not in noun_tags:\n",
    "            nouns.append(token_str)\n",
    "        if token.pos_ in adj_tags and token_str not in adj_tags:\n",
    "            adjs.append(token_str)\n",
    "    for noun in nouns:\n",
    "        for adj in adjs:\n",
    "            adj_str = str(adj).lower()\n",
    "            pairs.append((noun, adj_str))\n",
    "    # Using stacy noun_chunks\n",
    "    # for chunk in tokens.noun_chunks:\n",
    "    #     current_noun = None\n",
    "    #     for token in chunk:\n",
    "    #         if token.pos_ in noun_tags:\n",
    "    #             current_noun = token.text\n",
    "    #         if token.pos_ in adj_tags and current_noun != None:\n",
    "    #             pairs.append((current_noun, token.text))\n",
    "    return pairs"
   ]
  },
  {
   "cell_type": "code",
   "execution_count": 16,
   "metadata": {},
   "outputs": [
    {
     "output_type": "display_data",
     "data": {
      "text/plain": "{'park, national': 4,\n 'abisko, amazing': 3,\n 'park, northern': 3,\n 'place, beautiful': 3,\n 'lake, frozen': 3,\n 'days, cloudy': 3,\n 'abisko, beautiful': 2,\n 'days, few': 2,\n 'lights, best': 2,\n 'location, amazing': 2,\n 'lights, northern': 2,\n 'bit, perfect': 2,\n 'path, difficult': 2,\n 'path, marked': 2,\n 'mountain, perfect': 2,\n 'park, great': 2,\n 'walk, nice': 2,\n 'hiking, beautiful': 2,\n 'place, more': 2,\n 'lake, huge': 2,\n 'sky, magical': 2,\n 'sky, frozen': 2,\n 'place, many': 2,\n 'options, many': 2,\n 'abisko, national': 2,\n 'day, easy': 2,\n 'lake, easy': 2,\n 'places, best': 2,\n 'vastness, sheer': 2,\n 'snow, sheer': 2,\n 'winter, great': 2,\n 'place, great': 2,\n 'beauty, great': 2,\n 'week, clear': 2,\n 'sky, clear': 2,\n 'park, nice': 2,\n 'park, best': 2,\n 'river, frozen': 2,\n 'ice, frozen': 2,\n 'walk, marked': 2,\n 'northern, cloudy': 2,\n 'lights, cloudy': 2,\n 'days, clear': 2,\n 'northern, beautiful': 1,\n 'lights, beautiful': 1,\n 'national, beautiful': 1,\n 'park, beautiful': 1,\n 'area, beautiful': 1,\n 'disappointment, first': 1,\n 'disappointment, few': 1,\n 'disappointment, operational': 1,\n 'accomodation, first': 1,\n 'accomodation, few': 1,\n 'accomodation, operational': 1,\n 'email, first': 1,\n 'email, few': 1,\n 'email, operational': 1,\n 'days, first': 1,\n 'days, operational': 1,\n 'activities, first': 1,\n 'activities, few': 1,\n 'activities, operational': 1,\n 'operation, first': 1,\n 'operation, few': 1,\n 'operation, operational': 1,\n 'week, first': 1,\n 'week, few': 1,\n 'week, operational': 1,\n 'restaurant, first': 1,\n 'restaurant, few': 1,\n 'restaurant, operational': 1,\n 'week, annoying': 1,\n 'train, open': 1,\n 'hour, open': 1,\n 'trip, open': 1,\n 'time, open': 1,\n 'hours, open': 1,\n 'room, open': 1,\n 'reception, open': 1,\n 'pm, open': 1,\n 'stuff, few': 1,\n 'use, few': 1,\n 'hours, few': 1,\n 'daylight, few': 1,\n 'national, few': 1,\n 'park, few': 1,\n 'stuff, logistical': 1,\n 'stuff, annoying': 1,\n 'stuff, amazing': 1,\n 'obstacles, logistical': 1,\n 'obstacles, annoying': 1,\n 'obstacles, amazing': 1,\n 'time, logistical': 1,\n 'time, annoying': 1,\n 'time, amazing': 1,\n 'issues, logistical': 1,\n 'issues, annoying': 1,\n 'issues, amazing': 1,\n 'abisko, logistical': 1,\n 'abisko, annoying': 1,\n 'area, logistical': 1,\n 'area, annoying': 1,\n 'area, amazing': 1,\n 'part, best': 1,\n 'part, lucky': 1,\n 'lights, lucky': 1,\n 'warmth, best': 1,\n 'warmth, lucky': 1,\n 'room, best': 1,\n 'room, lucky': 1,\n 'location, grateful': 1,\n 'location, able': 1,\n 'part, grateful': 1,\n 'part, able': 1,\n 'part, amazing': 1,\n 'world, grateful': 1,\n 'world, able': 1,\n 'world, amazing': 1,\n 'trails, low': 1,\n 'sign, low': 1,\n 'lot, low': 1,\n 'abisko, low': 1,\n 'season, low': 1,\n 'lights, bored': 1,\n 'national, northern': 1,\n 'national, bored': 1,\n 'park, bored': 1,\n 'trails, few': 1,\n 'trails, much': 1,\n 'ability, few': 1,\n 'ability, much': 1,\n 'time, few': 1,\n 'time, much': 1,\n 'october, heavy': 1,\n 'snow, heavy': 1,\n 'fall, heavy': 1,\n 'indicators, frequent': 1,\n 'indicators, reassuring': 1,\n 'trails, frequent': 1,\n 'trails, reassuring': 1,\n 'village, main': 1,\n 'village, less': 1,\n '40mins, main': 1,\n '40mins, less': 1,\n 'train, main': 1,\n 'train, less': 1,\n '10mins, main': 1,\n '10mins, less': 1,\n 'beginners, perfect': 1,\n 'hiking, perfect': 1,\n 'area, perfect': 1,\n 'number, strenuous': 1,\n 'day, strenuous': 1,\n 'hikes, strenuous': 1,\n 'half, strenuous': 1,\n 'one, last': 1,\n 'one, difficult': 1,\n 'one, soggy': 1,\n 'one, many': 1,\n 'one, marked': 1,\n 'bit, last': 1,\n 'bit, difficult': 1,\n 'bit, soggy': 1,\n 'bit, many': 1,\n 'bit, marked': 1,\n 'ground, last': 1,\n 'ground, difficult': 1,\n 'ground, soggy': 1,\n 'ground, many': 1,\n 'ground, marked': 1,\n 'places, last': 1,\n 'places, difficult': 1,\n 'places, soggy': 1,\n 'places, many': 1,\n 'places, marked': 1,\n 'path, last': 1,\n 'path, soggy': 1,\n 'path, many': 1,\n 'point, last': 1,\n 'point, difficult': 1,\n 'point, soggy': 1,\n 'point, many': 1,\n 'point, marked': 1,\n 'mosquitos, small': 1,\n 'knott, small': 1,\n 'swedish, small': 1,\n 'repellent, south': 1,\n 'repellent, african': 1,\n 'repellent, effective': 1,\n 'repellent, considerable': 1,\n 'sock, south': 1,\n 'sock, african': 1,\n 'sock, effective': 1,\n 'sock, considerable': 1,\n 'numbers, south': 1,\n 'numbers, african': 1,\n 'numbers, effective': 1,\n 'numbers, considerable': 1,\n 'winter, perfect': 1,\n 'view, perfect': 1,\n 'abisko, perfect': 1,\n 'lodge, perfect': 1,\n 'stay, perfect': 1,\n 'activities, perfect': 1,\n 'park, perfect': 1,\n 'sledge, husky': 1,\n 'sledge, brilliant': 1,\n 'sledge, snowy': 1,\n 'sledge, heated': 1,\n 'ride, husky': 1,\n 'ride, brilliant': 1,\n 'ride, snowy': 1,\n 'ride, heated': 1,\n 'julia, husky': 1,\n 'julia, brilliant': 1,\n 'julia, snowy': 1,\n 'julia, heated': 1,\n 'lanes, husky': 1,\n 'lanes, brilliant': 1,\n 'lanes, snowy': 1,\n 'lanes, heated': 1,\n 'tipee, husky': 1,\n 'tipee, brilliant': 1,\n 'tipee, snowy': 1,\n 'tipee, heated': 1,\n 'fire, husky': 1,\n 'fire, brilliant': 1,\n 'fire, snowy': 1,\n 'fire, heated': 1,\n 'drinks, husky': 1,\n 'drinks, brilliant': 1,\n 'drinks, snowy': 1,\n 'drinks, heated': 1,\n 'cinnamon, husky': 1,\n 'cinnamon, brilliant': 1,\n 'cinnamon, snowy': 1,\n 'cinnamon, heated': 1,\n 'buns, husky': 1,\n 'buns, brilliant': 1,\n 'buns, snowy': 1,\n 'buns, heated': 1,\n 'dogs, great': 1,\n 'dogs, friendly': 1,\n 'sledges, great': 1,\n 'sledges, friendly': 1,\n 'bouncy, great': 1,\n 'bouncy, friendly': 1,\n 'way, great': 1,\n 'hiking, peaceful': 1,\n 'place, peaceful': 1,\n 'walking, different': 1,\n 'routes, different': 1,\n 'length, different': 1,\n 'river, nice': 1,\n 'time, only': 1,\n 'time, light': 1,\n 'year, only': 1,\n 'year, light': 1,\n 'it?s, only': 1,\n 'it?s, light': 1,\n 'roundabout, only': 1,\n 'roundabout, light': 1,\n 'hours, only': 1,\n 'hours, light': 1,\n 'day, only': 1,\n 'day, light': 1,\n 'it?s, crazy': 1,\n 'it?s, much': 1,\n 'it?s, dark': 1,\n 'o, crazy': 1,\n 'o, much': 1,\n 'o, dark': 1,\n 'clock, crazy': 1,\n 'clock, much': 1,\n 'clock, dark': 1,\n 'pitch, crazy': 1,\n 'pitch, much': 1,\n 'pitch, dark': 1,\n 'pm, crazy': 1,\n 'pm, much': 1,\n 'pm, dark': 1,\n 'splendid, biased': 1,\n 'splendid, favourite': 1,\n 'splendid, colder': 1,\n 'tundra, biased': 1,\n 'tundra, favourite': 1,\n 'tundra, colder': 1,\n 'hikes, biased': 1,\n 'hikes, favourite': 1,\n 'hikes, colder': 1,\n 'type, biased': 1,\n 'type, favourite': 1,\n 'type, colder': 1,\n 'holiday, biased': 1,\n 'holiday, favourite': 1,\n 'holiday, colder': 1,\n 'parts, biased': 1,\n 'parts, favourite': 1,\n 'parts, colder': 1,\n 'world, biased': 1,\n 'world, favourite': 1,\n 'world, colder': 1,\n 'mountains, biased': 1,\n 'mountains, favourite': 1,\n 'mountains, colder': 1,\n 'abisko, accessible': 1,\n 'scenery, beautiful': 1,\n 'scenery, accessible': 1,\n 'hiking, accessible': 1,\n 'trails, beautiful': 1,\n 'trails, accessible': 1,\n 'summer, determined': 1,\n 'summer, beautiful': 1,\n 'summer, early': 1,\n 'summer, more': 1,\n 'autumn, determined': 1,\n 'autumn, beautiful': 1,\n 'autumn, early': 1,\n 'autumn, more': 1,\n 'colours, determined': 1,\n 'colours, beautiful': 1,\n 'colours, early': 1,\n 'colours, more': 1,\n 'spring, determined': 1,\n 'spring, beautiful': 1,\n 'spring, early': 1,\n 'spring, more': 1,\n 'place, determined': 1,\n 'place, early': 1,\n 'location, top': 1,\n 'show, lucky': 1,\n 'show, stunning': 1,\n 'auroras, lucky': 1,\n 'auroras, stunning': 1,\n 'lake, magical': 1,\n 'degrees, magical': 1,\n 'degrees, huge': 1,\n 'degrees, frozen': 1,\n 'northern, magical': 1,\n 'northern, huge': 1,\n 'northern, frozen': 1,\n 'lights, magical': 1,\n 'lights, huge': 1,\n 'lights, frozen': 1,\n 'dance, magical': 1,\n 'dance, huge': 1,\n 'dance, frozen': 1,\n 'sky, huge': 1,\n 'highlight, personal': 1,\n 'moose, personal': 1,\n 'side, personal': 1,\n 'road, personal': 1,\n 'sky, personal': 1,\n 'start, more': 1,\n 'start, beautiful': 1,\n 'start, many': 1,\n 'kungsleden, more': 1,\n 'kungsleden, beautiful': 1,\n 'kungsleden, many': 1,\n 'hiking, more': 1,\n 'hiking, many': 1,\n 'options, more': 1,\n 'options, beautiful': 1,\n 'hikers, many': 1,\n 'hikers, northern': 1,\n 'hikers, shorter': 1,\n 'park, many': 1,\n 'park, shorter': 1,\n 'start, northern': 1,\n 'start, shorter': 1,\n 'king, many': 1,\n 'king, northern': 1,\n 'king, shorter': 1,\n 'trail, many': 1,\n 'trail, northern': 1,\n 'trail, shorter': 1,\n 'place, northern': 1,\n 'place, shorter': 1,\n 'options, northern': 1,\n 'options, shorter': 1,\n 'backpacking, many': 1,\n 'backpacking, northern': 1,\n 'backpacking, shorter': 1,\n 'adventures, many': 1,\n 'adventures, northern': 1,\n 'adventures, shorter': 1,\n 'day, many': 1,\n 'day, northern': 1,\n 'day, shorter': 1,\n 'hikes, many': 1,\n 'hikes, northern': 1,\n 'hikes, shorter': 1,\n 'availability, wonderful': 1,\n 'huts, wonderful': 1,\n 'campsites, wonderful': 1,\n 'place, wonderful': 1,\n 'beautiful, great': 1,\n 'time, great': 1,\n 'abisko, great': 1,\n 'night, second': 1,\n 'night, spectacular': 1,\n 'g1, second': 1,\n 'g1, spectacular': 1,\n 'solar, second': 1,\n 'solar, spectacular': 1,\n 'storm, second': 1,\n 'storm, spectacular': 1,\n 'hotel, national': 1,\n 'hotel, great': 1,\n 'stf, national': 1,\n 'stf, great': 1,\n 'mountain, national': 1,\n 'mountain, great': 1,\n 'station, national': 1,\n 'station, great': 1,\n 'rooms, fancy': 1,\n 'rooms, big': 1,\n 'rooms, nice': 1,\n 'king, fancy': 1,\n 'king, big': 1,\n 'king, nice': 1,\n 'bed, fancy': 1,\n 'bed, big': 1,\n 'bed, nice': 1,\n 'day, frozen': 1,\n 'day, great': 1,\n 'lake, great': 1,\n 'night, frozen': 1,\n 'night, great': 1,\n 'night, easy': 1,\n 'hike, frozen': 1,\n 'hike, great': 1,\n 'hike, easy': 1,\n 'lights, amazing': 1,\n 'lights, more': 1,\n 'experienc, amazing': 1,\n 'experienc, northern': 1,\n 'experienc, best': 1,\n 'experienc, more': 1,\n 'research, amazing': 1,\n 'research, northern': 1,\n 'research, best': 1,\n 'research, more': 1,\n 'abisko, northern': 1,\n 'abisko, best': 1,\n 'abisko, more': 1,\n 'location, northern': 1,\n 'location, best': 1,\n 'location, more': 1,\n 'europe, amazing': 1,\n 'europe, northern': 1,\n 'europe, best': 1,\n 'europe, more': 1,\n 'mountains, amazing': 1,\n 'mountains, northern': 1,\n 'mountains, best': 1,\n 'mountains, more': 1,\n 'cloud, amazing': 1,\n 'cloud, northern': 1,\n 'cloud, best': 1,\n 'cloud, more': 1,\n 'cover, amazing': 1,\n 'cover, northern': 1,\n 'cover, best': 1,\n 'cover, more': 1,\n 'places, amazing': 1,\n 'places, northern': 1,\n 'places, more': 1,\n 'lake, stunning': 1,\n 'lake, amazing': 1,\n 'january, beautiful': 1,\n 'maximum, beautiful': 1,\n 'hours, beautiful': 1,\n 'webcam, local': 1,\n 'webcam, northern': 1,\n 'webcam, stunning': 1,\n 'companies, local': 1,\n 'companies, northern': 1,\n 'companies, stunning': 1,\n 'lights, local': 1,\n 'lights, stunning': 1,\n 'lapland, local': 1,\n 'lapland, northern': 1,\n 'lapland, stunning': 1,\n 'activies, local': 1,\n 'activies, northern': 1,\n 'activies, stunning': 1,\n 'magic, local': 1,\n 'magic, northern': 1,\n 'magic, stunning': 1,\n 'words, surreal': 1,\n 'december, surreal': 1,\n 'northern, surreal': 1,\n 'lights, surreal': 1,\n 'lapland, surreal': 1,\n 'train, memorable': 1,\n 'journey, memorable': 1,\n 'arctic, memorable': 1,\n 'circle, memorable': 1,\n 'glimpse, memorable': 1,\n 'experience, memorable': 1,\n 'vastness, pure': 1,\n 'white, sheer': 1,\n 'white, pure': 1,\n 'snow, pure': 1,\n 'ice, sheer': 1,\n 'ice, pure': 1,\n 'silence, sheer': 1,\n 'silence, pure': 1,\n 'nature, sheer': 1,\n 'nature, pure': 1,\n 'winter, sheer': 1,\n 'winter, pure': 1,\n 'trees, sheer': 1,\n 'trees, pure': 1,\n 'speechless, sheer': 1,\n 'speechless, pure': 1,\n 'northern, entrenched': 1,\n 'lights, entrenched': 1,\n 'dog, entrenched': 1,\n 'experiences, entrenched': 1,\n 'minds, entrenched': 1,\n 'memories, entrenched': 1,\n 'landscape, stunning': 1,\n 'landscape, great': 1,\n 'landscape, isolated': 1,\n 'cabins, stunning': 1,\n 'cabins, great': 1,\n 'cabins, isolated': 1,\n 'bjorkliden, stunning': 1,\n 'bjorkliden, great': 1,\n 'bjorkliden, isolated': 1,\n 'kappas, stunning': 1,\n 'kappas, great': 1,\n 'kappas, isolated': 1,\n 'village, stunning': 1,\n 'village, great': 1,\n 'village, isolated': 1,\n 'weather, stunning': 1,\n 'weather, great': 1,\n 'weather, isolated': 1,\n 'winter, stunning': 1,\n 'winter, isolated': 1,\n 'place, stunning': 1,\n 'place, isolated': 1,\n 'beauty, stunning': 1,\n 'beauty, isolated': 1,\n 'skies, cold': 1,\n 'skies, clear': 1,\n 'skies, mega': 1,\n 'skies, siberian': 1,\n 'auroras, cold': 1,\n 'auroras, clear': 1,\n 'auroras, mega': 1,\n 'auroras, siberian': 1,\n 'displays, cold': 1,\n 'displays, clear': 1,\n 'displays, mega': 1,\n 'displays, siberian': 1,\n 'week, cold': 1,\n 'week, mega': 1,\n 'week, siberian': 1,\n 'front, cold': 1,\n 'front, clear': 1,\n 'front, mega': 1,\n 'front, siberian': 1,\n 'winter, sled': 1,\n 'winter, many': 1,\n 'winter, few': 1,\n 'winter, first': 1,\n 'wonderland, great': 1,\n 'wonderland, sled': 1,\n 'wonderland, many': 1,\n 'wonderland, few': 1,\n 'wonderland, first': 1,\n 'place, sled': 1,\n 'place, few': 1,\n 'place, first': 1,\n 'ski, great': 1,\n 'ski, sled': 1,\n 'ski, many': 1,\n 'ski, few': 1,\n 'ski, first': 1,\n 'beauty, sled': 1,\n 'beauty, many': 1,\n 'beauty, few': 1,\n 'beauty, first': 1,\n 'silver, great': 1,\n 'silver, sled': 1,\n 'silver, many': 1,\n 'silver, few': 1,\n 'silver, first': 1,\n 'birch, great': 1,\n 'birch, sled': 1,\n 'birch, many': 1,\n 'birch, few': 1,\n 'birch, first': 1,\n 'firs, great': 1,\n 'firs, sled': 1,\n 'firs, many': 1,\n 'firs, few': 1,\n 'firs, first': 1,\n 'year, great': 1,\n 'year, sled': 1,\n 'year, many': 1,\n 'year, few': 1,\n 'year, first': 1,\n 'course, great': 1,\n 'course, sled': 1,\n 'course, many': 1,\n 'course, few': 1,\n 'course, first': 1,\n 'aurora, great': 1,\n 'aurora, sled': 1,\n 'aurora, many': 1,\n 'aurora, few': 1,\n 'aurora, first': 1,\n 'day, clear': 1,\n 'wind, little': 1,\n 'hole, blue': 1,\n 'hole, real': 1,\n 'abisko, blue': 1,\n 'abisko, real': 1,\n 'direction, blue': 1,\n 'direction, real': 1,\n 'east, blue': 1,\n 'east, real': 1,\n 'west, blue': 1,\n 'west, real': 1,\n 'e10, blue': 1,\n 'e10, real': 1,\n 'weather, blue': 1,\n 'weather, real': 1,\n 'km, blue': 1,\n 'km, real': 1,\n 'nature, arctic': 1,\n 'nature, nice': 1,\n 'nature, full': 1,\n 'park, arctic': 1,\n 'park, full': 1,\n 'area, arctic': 1,\n 'area, nice': 1,\n 'area, full': 1,\n 'lakes, arctic': 1,\n 'lakes, nice': 1,\n 'lakes, full': 1,\n 'mountains, arctic': 1,\n 'mountains, nice': 1,\n 'mountains, full': 1,\n 'site, interesting': 1,\n 'site, local': 1,\n 'birds, interesting': 1,\n 'birds, local': 1,\n 'hiking, interesting': 1,\n 'hiking, local': 1,\n 'trails, interesting': 1,\n 'trails, local': 1,\n 'exploration, interesting': 1,\n 'exploration, local': 1,\n 'valley, interesting': 1,\n 'valley, local': 1,\n 'flora, interesting': 1,\n 'flora, local': 1,\n 'naturium, more': 1,\n 'center, more': 1,\n 'winter, more': 1,\n 'opportunities, more': 1,\n 'park, more': 1,\n 'map, different': 1,\n 'trails, different': 1,\n 'snowshoeing, different': 1,\n 'tourists, different': 1,\n 'park, different': 1,\n 'paths, different': 1,\n 'abisko, european': 1,\n 'park, amazing': 1,\n 'park, european': 1,\n 'overland, amazing': 1,\n 'overland, national': 1,\n 'overland, european': 1,\n 'trip, amazing': 1,\n 'trip, national': 1,\n 'trip, european': 1,\n 'dubai, amazing': 1,\n 'dubai, national': 1,\n 'dubai, european': 1,\n 'countries, amazing': 1,\n 'countries, national': 1,\n 'countries, european': 1,\n 'loads, peaceful': 1,\n 'flora, peaceful': 1,\n 'fauna, peaceful': 1,\n 'lakes, pristine': 1,\n 'mountain, pristine': 1,\n 'peaks, pristine': 1,\n 'snow, pristine': 1,\n 'night, mid': 1,\n 'night, beautiful': 1,\n 'sun, mid': 1,\n 'sun, beautiful': 1,\n 'nature, northern': 1,\n 'nature, best': 1,\n 'nature, peaceful': 1,\n 'nature, welcoming': 1,\n 'nature, wild': 1,\n 'park, peaceful': 1,\n 'park, welcoming': 1,\n 'park, wild': 1,\n 'hiking, wild': 1,\n 'wonderland, wild': 1,\n 'plants, wild': 1,\n 'trees, wild': 1,\n 'life, wild': 1,\n 'backpacking, best': 1,\n 'place, lovable': 1,\n 'place, vast': 1,\n 'place, tall': 1,\n 'place, wild': 1,\n 'lake, lovable': 1,\n 'lake, vast': 1,\n 'lake, tall': 1,\n 'lake, wild': 1,\n 'mountains, lovable': 1,\n 'mountains, vast': 1,\n 'mountains, tall': 1,\n 'mountains, wild': 1,\n 'forests, lovable': 1,\n 'forests, vast': 1,\n 'forests, tall': 1,\n 'forests, wild': 1,\n 'serenity, spectacular': 1,\n 'adventure, spectacular': 1,\n 'challenge, spectacular': 1,\n 'view, spectacular': 1,\n 'reach, most': 1,\n 'minutes, most': 1,\n 'park, iconic': 1,\n 'sweden, iconic': 1,\n 'sweden, national': 1,\n 'reason, iconic': 1,\n 'reason, national': 1,\n 'scenery, stunning': 1,\n 'scenery, spectacular': 1,\n 'hours, stunning': 1,\n 'hours, spectacular': 1,\n 'park, stunning': 1,\n 'park, spectacular': 1,\n 'gorge, amazing': 1,\n 'gorge, frozen': 1,\n 'gorge, wonderful': 1,\n 'waterfall, amazing': 1,\n 'waterfall, frozen': 1,\n 'waterfall, wonderful': 1,\n 'river, amazing': 1,\n 'river, wonderful': 1,\n 'ice, amazing': 1,\n 'ice, wonderful': 1,\n 'sculptures, amazing': 1,\n 'sculptures, frozen': 1,\n 'sculptures, wonderful': 1,\n 'u, shaped': 1,\n 'u, superb': 1,\n 'valley, shaped': 1,\n 'valley, superb': 1,\n 'skyline, shaped': 1,\n 'skyline, superb': 1,\n 'snow, shaped': 1,\n 'snow, superb': 1,\n 'hills, shaped': 1,\n 'hills, superb': 1,\n 'mountains, shaped': 1,\n 'mountains, superb': 1,\n 'backdrop, shaped': 1,\n 'backdrop, superb': 1,\n 'dog, careful': 1,\n 'sleds, careful': 1,\n 'park, careful': 1,\n 'views, careful': 1,\n 'winter, nice': 1,\n 'way, better': 1,\n 'way, national': 1,\n 'park, better': 1,\n 'daylight, better': 1,\n 'daylight, national': 1,\n 'hours, better': 1,\n 'hours, national': 1,\n 'enjoyed, marked': 1,\n 'enjoyed, difficult': 1,\n 'enjoyed, most': 1,\n 'walk, difficult': 1,\n 'walk, most': 1,\n 'path, most': 1,\n 'winter, marked': 1,\n 'winter, difficult': 1,\n 'winter, most': 1,\n 'snow, marked': 1,\n 'snow, difficult': 1,\n 'snow, most': 1,\n 'trip, recent': 1,\n 'abisko, recent': 1,\n 'walk, recent': 1,\n 'national, recent': 1,\n 'park, recent': 1,\n 'walk, same': 1,\n 'orange, marked': 1,\n 'hrs, marked': 1,\n 'conditions, heavy': 1,\n 'conditions, snowy': 1,\n 'orange, heavy': 1,\n 'orange, snowy': 1,\n 'markers, heavy': 1,\n 'markers, snowy': 1,\n 'trunks, heavy': 1,\n 'trunks, snowy': 1,\n 'trees, heavy': 1,\n 'trees, snowy': 1,\n 'route, heavy': 1,\n 'route, snowy': 1,\n 'yards, heavy': 1,\n 'yards, snowy': 1,\n 'thereabouts, heavy': 1,\n 'thereabouts, snowy': 1,\n 'route, lovely': 1,\n 'route, frozen': 1,\n 'route, birch': 1,\n 'river, lovely': 1,\n 'river, birch': 1,\n 'tree, lovely': 1,\n 'tree, frozen': 1,\n 'tree, birch': 1,\n 'woods, lovely': 1,\n 'woods, frozen': 1,\n 'woods, birch': 1,\n 'bend, red': 1,\n 'track, red': 1,\n 'snow, red': 1,\n 'left, red': 1,\n 'posts, red': 1,\n 'exes, red': 1,\n 'winter, red': 1,\n 'husband, further': 1,\n 'husband, orange': 1,\n 'time, further': 1,\n 'time, orange': 1,\n 'signs, further': 1,\n 'signs, orange': 1,\n 'sign, orange': 1,\n 'tree, orange': 1,\n 'way, good': 1,\n 'way, easy': 1,\n 'way, trodden': 1,\n 'direction, good': 1,\n 'direction, easy': 1,\n 'direction, trodden': 1,\n 'track, good': 1,\n 'track, easy': 1,\n 'track, trodden': 1,\n 'walk, further': 1,\n 'park, further': 1,\n 'problem, further': 1,\n 'park, non': 1,\n 'rangers, non': 1,\n 'signage, non': 1,\n 'winter, non': 1,\n 'conditions, non': 1,\n 'use, non': 1,\n 'locals, non': 1,\n 'thing, nice': 1,\n 'sub, nice': 1,\n 'temperatures, nice': 1,\n 'darkness, nice': 1,\n 'lapland, worried': 1,\n 'lapland, unlucky': 1,\n 'course, worried': 1,\n 'course, unlucky': 1,\n 'northern, worried': 1,\n 'northern, unlucky': 1,\n 'lights, worried': 1,\n 'lights, unlucky': 1,\n 'visit, worried': 1,\n 'visit, unlucky': 1,\n 'kiruna, cloudy': 1,\n 'kiruna, last': 1,\n 'days, last': 1,\n 'night, cloudy': 1,\n 'night, last': 1,\n 'abisko, cloudy': 1,\n 'abisko, last': 1,\n 'national, cloudy': 1,\n 'national, last': 1,\n 'park, cloudy': 1,\n 'park, last': 1,\n 'fingers, cloudy': 1,\n 'fingers, last': 1,\n 'nighttime, cloudy': 1,\n 'nighttime, able': 1,\n 'northern, able': 1,\n 'lights, able': 1,\n 'stf, cloudy': 1,\n 'stf, able': 1,\n 'lodge, cloudy': 1,\n 'lodge, able': 1,\n 'hiking, able': 1,\n 'hiking, much': 1,\n 'hiking, snowy': 1,\n 'icy, able': 1,\n 'icy, much': 1,\n 'icy, snowy': 1,\n 'canyon, pleasant': 1,\n 'canyon, easy': 1,\n 'trail, pleasant': 1,\n 'trail, easy': 1,\n 'lake, pleasant': 1,\n 'day, pleasant': 1,\n 'sorts, pleasant': 1,\n 'sorts, easy': 1,\n 'hikers, pleasant': 1,\n 'hikers, easy': 1,\n 'ice, cool': 1,\n 'climbers, cool': 1,\n 'canyon, cool': 1,\n 'northern, wonderful': 1,\n 'lights, wonderful': 1,\n 'abisko, wonderful': 1,\n 'nights, wonderful': 1,\n 'middle, wonderful': 1,\n 'february, wonderful': 1,\n 'time, wonderful': 1,\n 'people, unique': 1,\n 'people, micro': 1,\n 'people, true': 1,\n 'region, unique': 1,\n 'region, micro': 1,\n 'region, true': 1,\n '-, unique': 1,\n '-, micro': 1,\n '-, true': 1,\n 'climate, unique': 1,\n 'climate, micro': 1,\n 'climate, true': 1,\n 'days, dark': 1,\n 'sunset, dark': 1,\n 'sunset, cloudy': 1,\n 'sunset, clear': 1,\n 'stars, dark': 1,\n 'stars, cloudy': 1,\n 'stars, clear': 1,\n 'evening, daytime': 1,\n 'weather, daytime': 1,\n 'conditions, daytime': 1,\n 'opposite, daytime': 1,\n 'days, clearer': 1,\n 'days, cloudier': 1,\n 'nights, clearer': 1,\n 'nights, cloudier': 1,\n 'vice, clearer': 1,\n 'vice, cloudier': 1,\n 'sky, sure': 1,\n 'sky, current': 1,\n 'station, sure': 1,\n 'station, current': 1,\n 'lights, sure': 1,\n 'lights, current': 1,\n 'lapland, sure': 1,\n 'lapland, current': 1,\n 'aurora, sure': 1,\n 'aurora, current': 1,\n 'sightings, sure': 1,\n 'sightings, current': 1,\n 'stars, great': 1,\n 'sign, great': 1,\n 'sky, real': 1,\n 'station, real': 1,\n 'must, real': 1,\n 'snow, brilliant': 1,\n 'mountain, brilliant': 1,\n 'stars, brilliant': 1,\n 'bit, small': 1,\n 'bit, unstable': 1,\n 'bit, sturdy': 1,\n 'climb, small': 1,\n 'climb, perfect': 1,\n 'climb, unstable': 1,\n 'climb, sturdy': 1,\n 'winding, small': 1,\n 'winding, perfect': 1,\n 'winding, unstable': 1,\n 'winding, sturdy': 1,\n 'staircase, small': 1,\n 'staircase, perfect': 1,\n 'staircase, unstable': 1,\n 'staircase, sturdy': 1,\n 'rooftop, small': 1,\n 'rooftop, perfect': 1,\n 'rooftop, unstable': 1,\n 'rooftop, sturdy': 1,\n 'station, small': 1,\n 'station, perfect': 1,\n 'station, unstable': 1,\n 'station, sturdy': 1,\n ...}"
     },
     "metadata": {}
    }
   ],
   "source": [
    "noun_adj_pairs = {}\n",
    "\n",
    "for row in data:\n",
    "    review = row[0]\n",
    "    sentences = nltk.sent_tokenize(review)\n",
    "    pairs = {}\n",
    "    for sent in sentences:\n",
    "        part_pairs = extract_pair(sent)\n",
    "        for pair in part_pairs:\n",
    "            pair_str = '%s, %s' % (pair[0], pair[1])\n",
    "            if pair_str not in pairs:\n",
    "                pairs[pair_str] = 1\n",
    "    for pair in pairs:\n",
    "        if pair not in noun_adj_pairs:\n",
    "            noun_adj_pairs[pair] = 1\n",
    "        else:\n",
    "            noun_adj_pairs[pair] += 1\n",
    "# sort them\n",
    "noun_adj_pairs = {k: v for k, v in sorted(noun_adj_pairs.items(), key=lambda item: item[1], reverse=True)}\n",
    "display(noun_adj_pairs)"
   ]
  },
  {
   "cell_type": "code",
   "execution_count": null,
   "metadata": {},
   "outputs": [],
   "source": []
  }
 ]
}